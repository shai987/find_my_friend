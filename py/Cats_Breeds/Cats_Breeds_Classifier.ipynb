{
 "cells": [
  {
   "cell_type": "code",
   "execution_count": 53,
   "id": "81828cd3",
   "metadata": {},
   "outputs": [],
   "source": [
    "import numpy as np \n",
    "import pandas as pd\n",
    "import matplotlib.pyplot as plt\n",
    "import tensorflow as tf\n",
    "import keras\n",
    "import os\n",
    "\n",
    "from sklearn.model_selection import train_test_split \n",
    "from keras.utils import to_categorical \n",
    "from tensorflow.keras import layers\n",
    "from keras.callbacks import EarlyStopping\n",
    "\n",
    "from keras.models import Sequential \n",
    "from tensorflow.keras.layers import Conv2D,Add,MaxPooling2D, Dense, BatchNormalization,Input\n",
    "from keras.layers import Dense, Dropout \n",
    "from tensorflow.keras.models import Model\n",
    "from tensorflow.keras.optimizers import Adam\n",
    "from keras.layers import Flatten, BatchNormalization\n",
    "from tensorflow.keras.callbacks import LearningRateScheduler\n",
    "from tensorflow.keras.preprocessing.image import ImageDataGenerator\n",
    "\n",
    "import tensorflow_hub as hub\n",
    "import datetime"
   ]
  },
  {
   "cell_type": "markdown",
   "id": "26a8b522",
   "metadata": {},
   "source": [
    "# Create a dataset"
   ]
  },
  {
   "cell_type": "code",
   "execution_count": 36,
   "id": "cc79630f",
   "metadata": {},
   "outputs": [],
   "source": [
    "batch_size = 32\n",
    "img_height = 224\n",
    "img_width = 224"
   ]
  },
  {
   "cell_type": "code",
   "execution_count": 37,
   "id": "731ce806",
   "metadata": {},
   "outputs": [
    {
     "name": "stdout",
     "output_type": "stream",
     "text": [
      "Found 5625 files belonging to 15 classes.\n",
      "Using 4500 files for training.\n"
     ]
    }
   ],
   "source": [
    "train_ds = tf.keras.utils.image_dataset_from_directory(\n",
    "    r\"C:\\tmp\\Gano-Cat-Breeds-V1_1\",\n",
    "    label_mode='categorical',\n",
    "    validation_split=0.2,\n",
    "    subset=\"training\",\n",
    "    seed=123,\n",
    "    image_size=(img_height, img_width),\n",
    "    batch_size=batch_size)"
   ]
  },
  {
   "cell_type": "code",
   "execution_count": 38,
   "id": "239d6925",
   "metadata": {},
   "outputs": [
    {
     "name": "stdout",
     "output_type": "stream",
     "text": [
      "Found 5625 files belonging to 15 classes.\n",
      "Using 1125 files for validation.\n"
     ]
    }
   ],
   "source": [
    "val_ds = tf.keras.utils.image_dataset_from_directory(\n",
    "    r\"C:\\tmp\\Gano-Cat-Breeds-V1_1\",\n",
    "    label_mode='categorical',\n",
    "    validation_split=0.2,\n",
    "    subset=\"validation\",\n",
    "    seed=123,\n",
    "    image_size=(img_height, img_width),\n",
    "    batch_size=batch_size)"
   ]
  },
  {
   "cell_type": "code",
   "execution_count": 39,
   "id": "19a1a411",
   "metadata": {},
   "outputs": [
    {
     "name": "stdout",
     "output_type": "stream",
     "text": [
      "['Abyssinian', 'American Bobtail', 'American Shorthair', 'Bengal', 'Birman', 'Bombay', 'British Shorthair', 'Egyptian Mau', 'Maine Coon', 'Persian', 'Ragdoll', 'Russian Blue', 'Siamese', 'Sphynx', 'Tuxedo']\n"
     ]
    }
   ],
   "source": [
    "class_names = train_ds.class_names\n",
    "print(class_names)"
   ]
  },
  {
   "cell_type": "markdown",
   "id": "edd11aed",
   "metadata": {},
   "source": [
    "# Visualize the data"
   ]
  },
  {
   "cell_type": "code",
   "execution_count": 40,
   "id": "889336be",
   "metadata": {},
   "outputs": [
    {
     "data": {
      "text/plain": [
       "'t.figure(figsize=(10, 10))\\nfor images, labels in train_ds.take(1):\\n  for i in range(9):\\n    ax = plt.subplot(3, 3, i + 1)\\n    plt.imshow(images[i].numpy().astype(\"uint8\"))\\n    print(labels[i])\\n    plt.title(class_names[labels[i]==1][0].title())\\n    plt.axis(\"off\")'"
      ]
     },
     "execution_count": 40,
     "metadata": {},
     "output_type": "execute_result"
    }
   ],
   "source": [
    "\"\"\"t.figure(figsize=(10, 10))\n",
    "for images, labels in train_ds.take(1):\n",
    "  for i in range(9):\n",
    "    ax = plt.subplot(3, 3, i + 1)\n",
    "    plt.imshow(images[i].numpy().astype(\"uint8\"))\n",
    "    print(labels[i])\n",
    "    plt.title(class_names[labels[i]==1][0].title())\n",
    "    plt.axis(\"off\")\"\"\""
   ]
  },
  {
   "cell_type": "code",
   "execution_count": 41,
   "id": "5ea92cf4",
   "metadata": {},
   "outputs": [
    {
     "name": "stdout",
     "output_type": "stream",
     "text": [
      "(32, 224, 224, 3)\n",
      "(32, 15)\n"
     ]
    }
   ],
   "source": [
    "for image_batch, labels_batch in train_ds:\n",
    "  print(image_batch.shape)\n",
    "  print(labels_batch.shape)\n",
    "  break"
   ]
  },
  {
   "cell_type": "markdown",
   "id": "a61fc8d3",
   "metadata": {},
   "source": [
    "# Configure the dataset for performance"
   ]
  },
  {
   "cell_type": "code",
   "execution_count": 42,
   "id": "01d85cb9",
   "metadata": {},
   "outputs": [],
   "source": [
    "AUTOTUNE = tf.data.AUTOTUNE\n",
    "\n",
    "train_ds = train_ds.cache().shuffle(1000).prefetch(buffer_size=AUTOTUNE)\n",
    "val_ds = val_ds.cache().prefetch(buffer_size=AUTOTUNE)"
   ]
  },
  {
   "cell_type": "markdown",
   "id": "741a22f0",
   "metadata": {},
   "source": [
    "# Create the model"
   ]
  },
  {
   "cell_type": "code",
   "execution_count": 43,
   "id": "115553e9",
   "metadata": {},
   "outputs": [],
   "source": [
    "IMG_SIZE = (224, 224)\n",
    "# Create the base model from the pre-trained model MobileNet V3\n",
    "IMG_SHAPE = IMG_SIZE + (3,)\n",
    "base_model = tf.keras.applications.MobileNetV3Large(input_shape=IMG_SHAPE,\n",
    "                                               weights='imagenet')"
   ]
  },
  {
   "cell_type": "code",
   "execution_count": 44,
   "id": "5fb24473",
   "metadata": {},
   "outputs": [],
   "source": [
    "base_model.trainable = False"
   ]
  },
  {
   "cell_type": "code",
   "execution_count": 45,
   "id": "264b7e40",
   "metadata": {},
   "outputs": [
    {
     "data": {
      "text/plain": [
       "0"
      ]
     },
     "execution_count": 45,
     "metadata": {},
     "output_type": "execute_result"
    }
   ],
   "source": [
    "len(base_model.trainable_variables) # Shows that its frozen"
   ]
  },
  {
   "cell_type": "code",
   "execution_count": 46,
   "id": "66294f46",
   "metadata": {},
   "outputs": [
    {
     "name": "stdout",
     "output_type": "stream",
     "text": [
      "Model: \"MobilenetV3large\"\n",
      "__________________________________________________________________________________________________\n",
      " Layer (type)                   Output Shape         Param #     Connected to                     \n",
      "==================================================================================================\n",
      " input_3 (InputLayer)           [(None, 224, 224, 3  0           []                               \n",
      "                                )]                                                                \n",
      "                                                                                                  \n",
      " rescaling_2 (Rescaling)        (None, 224, 224, 3)  0           ['input_3[0][0]']                \n",
      "                                                                                                  \n",
      " Conv (Conv2D)                  (None, 112, 112, 16  432         ['rescaling_2[0][0]']            \n",
      "                                )                                                                 \n",
      "                                                                                                  \n",
      " Conv/BatchNorm (BatchNormaliza  (None, 112, 112, 16  64         ['Conv[0][0]']                   \n",
      " tion)                          )                                                                 \n",
      "                                                                                                  \n",
      " tf.__operators__.add_58 (TFOpL  (None, 112, 112, 16  0          ['Conv/BatchNorm[0][0]']         \n",
      " ambda)                         )                                                                 \n",
      "                                                                                                  \n",
      " re_lu_80 (ReLU)                (None, 112, 112, 16  0           ['tf.__operators__.add_58[0][0]']\n",
      "                                )                                                                 \n",
      "                                                                                                  \n",
      " tf.math.multiply_58 (TFOpLambd  (None, 112, 112, 16  0          ['re_lu_80[0][0]']               \n",
      " a)                             )                                                                 \n",
      "                                                                                                  \n",
      " multiply_42 (Multiply)         (None, 112, 112, 16  0           ['Conv/BatchNorm[0][0]',         \n",
      "                                )                                 'tf.math.multiply_58[0][0]']    \n",
      "                                                                                                  \n",
      " expanded_conv/depthwise (Depth  (None, 112, 112, 16  144        ['multiply_42[0][0]']            \n",
      " wiseConv2D)                    )                                                                 \n",
      "                                                                                                  \n",
      " expanded_conv/depthwise/BatchN  (None, 112, 112, 16  64         ['expanded_conv/depthwise[0][0]']\n",
      " orm (BatchNormalization)       )                                                                 \n",
      "                                                                                                  \n",
      " re_lu_81 (ReLU)                (None, 112, 112, 16  0           ['expanded_conv/depthwise/BatchNo\n",
      "                                )                                rm[0][0]']                       \n",
      "                                                                                                  \n",
      " expanded_conv/project (Conv2D)  (None, 112, 112, 16  256        ['re_lu_81[0][0]']               \n",
      "                                )                                                                 \n",
      "                                                                                                  \n",
      " expanded_conv/project/BatchNor  (None, 112, 112, 16  64         ['expanded_conv/project[0][0]']  \n",
      " m (BatchNormalization)         )                                                                 \n",
      "                                                                                                  \n",
      " expanded_conv/Add (Add)        (None, 112, 112, 16  0           ['multiply_42[0][0]',            \n",
      "                                )                                 'expanded_conv/project/BatchNorm\n",
      "                                                                 [0][0]']                         \n",
      "                                                                                                  \n",
      " expanded_conv_1/expand (Conv2D  (None, 112, 112, 64  1024       ['expanded_conv/Add[0][0]']      \n",
      " )                              )                                                                 \n",
      "                                                                                                  \n",
      " expanded_conv_1/expand/BatchNo  (None, 112, 112, 64  256        ['expanded_conv_1/expand[0][0]'] \n",
      " rm (BatchNormalization)        )                                                                 \n",
      "                                                                                                  \n",
      " re_lu_82 (ReLU)                (None, 112, 112, 64  0           ['expanded_conv_1/expand/BatchNor\n",
      "                                )                                m[0][0]']                        \n",
      "                                                                                                  \n",
      " expanded_conv_1/depthwise/pad   (None, 113, 113, 64  0          ['re_lu_82[0][0]']               \n",
      " (ZeroPadding2D)                )                                                                 \n",
      "                                                                                                  \n",
      " expanded_conv_1/depthwise (Dep  (None, 56, 56, 64)  576         ['expanded_conv_1/depthwise/pad[0\n",
      " thwiseConv2D)                                                   ][0]']                           \n",
      "                                                                                                  \n",
      " expanded_conv_1/depthwise/Batc  (None, 56, 56, 64)  256         ['expanded_conv_1/depthwise[0][0]\n",
      " hNorm (BatchNormalization)                                      ']                               \n",
      "                                                                                                  \n",
      " re_lu_83 (ReLU)                (None, 56, 56, 64)   0           ['expanded_conv_1/depthwise/Batch\n",
      "                                                                 Norm[0][0]']                     \n",
      "                                                                                                  \n",
      " expanded_conv_1/project (Conv2  (None, 56, 56, 24)  1536        ['re_lu_83[0][0]']               \n",
      " D)                                                                                               \n",
      "                                                                                                  \n",
      " expanded_conv_1/project/BatchN  (None, 56, 56, 24)  96          ['expanded_conv_1/project[0][0]']\n",
      " orm (BatchNormalization)                                                                         \n",
      "                                                                                                  \n",
      " expanded_conv_2/expand (Conv2D  (None, 56, 56, 72)  1728        ['expanded_conv_1/project/BatchNo\n",
      " )                                                               rm[0][0]']                       \n",
      "                                                                                                  \n",
      " expanded_conv_2/expand/BatchNo  (None, 56, 56, 72)  288         ['expanded_conv_2/expand[0][0]'] \n",
      " rm (BatchNormalization)                                                                          \n",
      "                                                                                                  \n",
      " re_lu_84 (ReLU)                (None, 56, 56, 72)   0           ['expanded_conv_2/expand/BatchNor\n",
      "                                                                 m[0][0]']                        \n",
      "                                                                                                  \n",
      " expanded_conv_2/depthwise (Dep  (None, 56, 56, 72)  648         ['re_lu_84[0][0]']               \n",
      " thwiseConv2D)                                                                                    \n"
     ]
    },
    {
     "name": "stdout",
     "output_type": "stream",
     "text": [
      "                                                                                                  \n",
      " expanded_conv_2/depthwise/Batc  (None, 56, 56, 72)  288         ['expanded_conv_2/depthwise[0][0]\n",
      " hNorm (BatchNormalization)                                      ']                               \n",
      "                                                                                                  \n",
      " re_lu_85 (ReLU)                (None, 56, 56, 72)   0           ['expanded_conv_2/depthwise/Batch\n",
      "                                                                 Norm[0][0]']                     \n",
      "                                                                                                  \n",
      " expanded_conv_2/project (Conv2  (None, 56, 56, 24)  1728        ['re_lu_85[0][0]']               \n",
      " D)                                                                                               \n",
      "                                                                                                  \n",
      " expanded_conv_2/project/BatchN  (None, 56, 56, 24)  96          ['expanded_conv_2/project[0][0]']\n",
      " orm (BatchNormalization)                                                                         \n",
      "                                                                                                  \n",
      " expanded_conv_2/Add (Add)      (None, 56, 56, 24)   0           ['expanded_conv_1/project/BatchNo\n",
      "                                                                 rm[0][0]',                       \n",
      "                                                                  'expanded_conv_2/project/BatchNo\n",
      "                                                                 rm[0][0]']                       \n",
      "                                                                                                  \n",
      " expanded_conv_3/expand (Conv2D  (None, 56, 56, 72)  1728        ['expanded_conv_2/Add[0][0]']    \n",
      " )                                                                                                \n",
      "                                                                                                  \n",
      " expanded_conv_3/expand/BatchNo  (None, 56, 56, 72)  288         ['expanded_conv_3/expand[0][0]'] \n",
      " rm (BatchNormalization)                                                                          \n",
      "                                                                                                  \n",
      " re_lu_86 (ReLU)                (None, 56, 56, 72)   0           ['expanded_conv_3/expand/BatchNor\n",
      "                                                                 m[0][0]']                        \n",
      "                                                                                                  \n",
      " expanded_conv_3/depthwise/pad   (None, 59, 59, 72)  0           ['re_lu_86[0][0]']               \n",
      " (ZeroPadding2D)                                                                                  \n",
      "                                                                                                  \n",
      " expanded_conv_3/depthwise (Dep  (None, 28, 28, 72)  1800        ['expanded_conv_3/depthwise/pad[0\n",
      " thwiseConv2D)                                                   ][0]']                           \n",
      "                                                                                                  \n",
      " expanded_conv_3/depthwise/Batc  (None, 28, 28, 72)  288         ['expanded_conv_3/depthwise[0][0]\n",
      " hNorm (BatchNormalization)                                      ']                               \n",
      "                                                                                                  \n",
      " re_lu_87 (ReLU)                (None, 28, 28, 72)   0           ['expanded_conv_3/depthwise/Batch\n",
      "                                                                 Norm[0][0]']                     \n",
      "                                                                                                  \n",
      " expanded_conv_3/squeeze_excite  (None, 1, 1, 72)    0           ['re_lu_87[0][0]']               \n",
      " /AvgPool (GlobalAveragePooling                                                                   \n",
      " 2D)                                                                                              \n",
      "                                                                                                  \n",
      " expanded_conv_3/squeeze_excite  (None, 1, 1, 24)    1752        ['expanded_conv_3/squeeze_excite/\n",
      " /Conv (Conv2D)                                                  AvgPool[0][0]']                  \n",
      "                                                                                                  \n",
      " expanded_conv_3/squeeze_excite  (None, 1, 1, 24)    0           ['expanded_conv_3/squeeze_excite/\n",
      " /Relu (ReLU)                                                    Conv[0][0]']                     \n",
      "                                                                                                  \n",
      " expanded_conv_3/squeeze_excite  (None, 1, 1, 72)    1800        ['expanded_conv_3/squeeze_excite/\n",
      " /Conv_1 (Conv2D)                                                Relu[0][0]']                     \n",
      "                                                                                                  \n",
      " tf.__operators__.add_59 (TFOpL  (None, 1, 1, 72)    0           ['expanded_conv_3/squeeze_excite/\n",
      " ambda)                                                          Conv_1[0][0]']                   \n",
      "                                                                                                  \n",
      " re_lu_88 (ReLU)                (None, 1, 1, 72)     0           ['tf.__operators__.add_59[0][0]']\n",
      "                                                                                                  \n",
      " tf.math.multiply_59 (TFOpLambd  (None, 1, 1, 72)    0           ['re_lu_88[0][0]']               \n",
      " a)                                                                                               \n",
      "                                                                                                  \n",
      " expanded_conv_3/squeeze_excite  (None, 28, 28, 72)  0           ['re_lu_87[0][0]',               \n",
      " /Mul (Multiply)                                                  'tf.math.multiply_59[0][0]']    \n",
      "                                                                                                  \n",
      " expanded_conv_3/project (Conv2  (None, 28, 28, 40)  2880        ['expanded_conv_3/squeeze_excite/\n",
      " D)                                                              Mul[0][0]']                      \n",
      "                                                                                                  \n",
      " expanded_conv_3/project/BatchN  (None, 28, 28, 40)  160         ['expanded_conv_3/project[0][0]']\n",
      " orm (BatchNormalization)                                                                         \n",
      "                                                                                                  \n",
      " expanded_conv_4/expand (Conv2D  (None, 28, 28, 120)  4800       ['expanded_conv_3/project/BatchNo\n",
      " )                                                               rm[0][0]']                       \n",
      "                                                                                                  \n",
      " expanded_conv_4/expand/BatchNo  (None, 28, 28, 120)  480        ['expanded_conv_4/expand[0][0]'] \n",
      " rm (BatchNormalization)                                                                          \n",
      "                                                                                                  \n",
      " re_lu_89 (ReLU)                (None, 28, 28, 120)  0           ['expanded_conv_4/expand/BatchNor\n",
      "                                                                 m[0][0]']                        \n",
      "                                                                                                  \n",
      " expanded_conv_4/depthwise (Dep  (None, 28, 28, 120)  3000       ['re_lu_89[0][0]']               \n",
      " thwiseConv2D)                                                                                    \n",
      "                                                                                                  \n",
      " expanded_conv_4/depthwise/Batc  (None, 28, 28, 120)  480        ['expanded_conv_4/depthwise[0][0]\n",
      " hNorm (BatchNormalization)                                      ']                               \n"
     ]
    },
    {
     "name": "stdout",
     "output_type": "stream",
     "text": [
      "                                                                                                  \n",
      " re_lu_90 (ReLU)                (None, 28, 28, 120)  0           ['expanded_conv_4/depthwise/Batch\n",
      "                                                                 Norm[0][0]']                     \n",
      "                                                                                                  \n",
      " expanded_conv_4/squeeze_excite  (None, 1, 1, 120)   0           ['re_lu_90[0][0]']               \n",
      " /AvgPool (GlobalAveragePooling                                                                   \n",
      " 2D)                                                                                              \n",
      "                                                                                                  \n",
      " expanded_conv_4/squeeze_excite  (None, 1, 1, 32)    3872        ['expanded_conv_4/squeeze_excite/\n",
      " /Conv (Conv2D)                                                  AvgPool[0][0]']                  \n",
      "                                                                                                  \n",
      " expanded_conv_4/squeeze_excite  (None, 1, 1, 32)    0           ['expanded_conv_4/squeeze_excite/\n",
      " /Relu (ReLU)                                                    Conv[0][0]']                     \n",
      "                                                                                                  \n",
      " expanded_conv_4/squeeze_excite  (None, 1, 1, 120)   3960        ['expanded_conv_4/squeeze_excite/\n",
      " /Conv_1 (Conv2D)                                                Relu[0][0]']                     \n",
      "                                                                                                  \n",
      " tf.__operators__.add_60 (TFOpL  (None, 1, 1, 120)   0           ['expanded_conv_4/squeeze_excite/\n",
      " ambda)                                                          Conv_1[0][0]']                   \n",
      "                                                                                                  \n",
      " re_lu_91 (ReLU)                (None, 1, 1, 120)    0           ['tf.__operators__.add_60[0][0]']\n",
      "                                                                                                  \n",
      " tf.math.multiply_60 (TFOpLambd  (None, 1, 1, 120)   0           ['re_lu_91[0][0]']               \n",
      " a)                                                                                               \n",
      "                                                                                                  \n",
      " expanded_conv_4/squeeze_excite  (None, 28, 28, 120)  0          ['re_lu_90[0][0]',               \n",
      " /Mul (Multiply)                                                  'tf.math.multiply_60[0][0]']    \n",
      "                                                                                                  \n",
      " expanded_conv_4/project (Conv2  (None, 28, 28, 40)  4800        ['expanded_conv_4/squeeze_excite/\n",
      " D)                                                              Mul[0][0]']                      \n",
      "                                                                                                  \n",
      " expanded_conv_4/project/BatchN  (None, 28, 28, 40)  160         ['expanded_conv_4/project[0][0]']\n",
      " orm (BatchNormalization)                                                                         \n",
      "                                                                                                  \n",
      " expanded_conv_4/Add (Add)      (None, 28, 28, 40)   0           ['expanded_conv_3/project/BatchNo\n",
      "                                                                 rm[0][0]',                       \n",
      "                                                                  'expanded_conv_4/project/BatchNo\n",
      "                                                                 rm[0][0]']                       \n",
      "                                                                                                  \n",
      " expanded_conv_5/expand (Conv2D  (None, 28, 28, 120)  4800       ['expanded_conv_4/Add[0][0]']    \n",
      " )                                                                                                \n",
      "                                                                                                  \n",
      " expanded_conv_5/expand/BatchNo  (None, 28, 28, 120)  480        ['expanded_conv_5/expand[0][0]'] \n",
      " rm (BatchNormalization)                                                                          \n",
      "                                                                                                  \n",
      " re_lu_92 (ReLU)                (None, 28, 28, 120)  0           ['expanded_conv_5/expand/BatchNor\n",
      "                                                                 m[0][0]']                        \n",
      "                                                                                                  \n",
      " expanded_conv_5/depthwise (Dep  (None, 28, 28, 120)  3000       ['re_lu_92[0][0]']               \n",
      " thwiseConv2D)                                                                                    \n",
      "                                                                                                  \n",
      " expanded_conv_5/depthwise/Batc  (None, 28, 28, 120)  480        ['expanded_conv_5/depthwise[0][0]\n",
      " hNorm (BatchNormalization)                                      ']                               \n",
      "                                                                                                  \n",
      " re_lu_93 (ReLU)                (None, 28, 28, 120)  0           ['expanded_conv_5/depthwise/Batch\n",
      "                                                                 Norm[0][0]']                     \n",
      "                                                                                                  \n",
      " expanded_conv_5/squeeze_excite  (None, 1, 1, 120)   0           ['re_lu_93[0][0]']               \n",
      " /AvgPool (GlobalAveragePooling                                                                   \n",
      " 2D)                                                                                              \n",
      "                                                                                                  \n",
      " expanded_conv_5/squeeze_excite  (None, 1, 1, 32)    3872        ['expanded_conv_5/squeeze_excite/\n",
      " /Conv (Conv2D)                                                  AvgPool[0][0]']                  \n",
      "                                                                                                  \n",
      " expanded_conv_5/squeeze_excite  (None, 1, 1, 32)    0           ['expanded_conv_5/squeeze_excite/\n",
      " /Relu (ReLU)                                                    Conv[0][0]']                     \n",
      "                                                                                                  \n",
      " expanded_conv_5/squeeze_excite  (None, 1, 1, 120)   3960        ['expanded_conv_5/squeeze_excite/\n",
      " /Conv_1 (Conv2D)                                                Relu[0][0]']                     \n",
      "                                                                                                  \n",
      " tf.__operators__.add_61 (TFOpL  (None, 1, 1, 120)   0           ['expanded_conv_5/squeeze_excite/\n",
      " ambda)                                                          Conv_1[0][0]']                   \n",
      "                                                                                                  \n",
      " re_lu_94 (ReLU)                (None, 1, 1, 120)    0           ['tf.__operators__.add_61[0][0]']\n",
      "                                                                                                  \n",
      " tf.math.multiply_61 (TFOpLambd  (None, 1, 1, 120)   0           ['re_lu_94[0][0]']               \n",
      " a)                                                                                               \n",
      "                                                                                                  \n",
      " expanded_conv_5/squeeze_excite  (None, 28, 28, 120)  0          ['re_lu_93[0][0]',               \n",
      " /Mul (Multiply)                                                  'tf.math.multiply_61[0][0]']    \n",
      "                                                                                                  \n",
      " expanded_conv_5/project (Conv2  (None, 28, 28, 40)  4800        ['expanded_conv_5/squeeze_excite/\n",
      " D)                                                              Mul[0][0]']                      \n"
     ]
    },
    {
     "name": "stdout",
     "output_type": "stream",
     "text": [
      "                                                                                                  \n",
      " expanded_conv_5/project/BatchN  (None, 28, 28, 40)  160         ['expanded_conv_5/project[0][0]']\n",
      " orm (BatchNormalization)                                                                         \n",
      "                                                                                                  \n",
      " expanded_conv_5/Add (Add)      (None, 28, 28, 40)   0           ['expanded_conv_4/Add[0][0]',    \n",
      "                                                                  'expanded_conv_5/project/BatchNo\n",
      "                                                                 rm[0][0]']                       \n",
      "                                                                                                  \n",
      " expanded_conv_6/expand (Conv2D  (None, 28, 28, 240)  9600       ['expanded_conv_5/Add[0][0]']    \n",
      " )                                                                                                \n",
      "                                                                                                  \n",
      " expanded_conv_6/expand/BatchNo  (None, 28, 28, 240)  960        ['expanded_conv_6/expand[0][0]'] \n",
      " rm (BatchNormalization)                                                                          \n",
      "                                                                                                  \n",
      " tf.__operators__.add_62 (TFOpL  (None, 28, 28, 240)  0          ['expanded_conv_6/expand/BatchNor\n",
      " ambda)                                                          m[0][0]']                        \n",
      "                                                                                                  \n",
      " re_lu_95 (ReLU)                (None, 28, 28, 240)  0           ['tf.__operators__.add_62[0][0]']\n",
      "                                                                                                  \n",
      " tf.math.multiply_62 (TFOpLambd  (None, 28, 28, 240)  0          ['re_lu_95[0][0]']               \n",
      " a)                                                                                               \n",
      "                                                                                                  \n",
      " multiply_43 (Multiply)         (None, 28, 28, 240)  0           ['expanded_conv_6/expand/BatchNor\n",
      "                                                                 m[0][0]',                        \n",
      "                                                                  'tf.math.multiply_62[0][0]']    \n",
      "                                                                                                  \n",
      " expanded_conv_6/depthwise/pad   (None, 29, 29, 240)  0          ['multiply_43[0][0]']            \n",
      " (ZeroPadding2D)                                                                                  \n",
      "                                                                                                  \n",
      " expanded_conv_6/depthwise (Dep  (None, 14, 14, 240)  2160       ['expanded_conv_6/depthwise/pad[0\n",
      " thwiseConv2D)                                                   ][0]']                           \n",
      "                                                                                                  \n",
      " expanded_conv_6/depthwise/Batc  (None, 14, 14, 240)  960        ['expanded_conv_6/depthwise[0][0]\n",
      " hNorm (BatchNormalization)                                      ']                               \n",
      "                                                                                                  \n",
      " tf.__operators__.add_63 (TFOpL  (None, 14, 14, 240)  0          ['expanded_conv_6/depthwise/Batch\n",
      " ambda)                                                          Norm[0][0]']                     \n",
      "                                                                                                  \n",
      " re_lu_96 (ReLU)                (None, 14, 14, 240)  0           ['tf.__operators__.add_63[0][0]']\n",
      "                                                                                                  \n",
      " tf.math.multiply_63 (TFOpLambd  (None, 14, 14, 240)  0          ['re_lu_96[0][0]']               \n",
      " a)                                                                                               \n",
      "                                                                                                  \n",
      " multiply_44 (Multiply)         (None, 14, 14, 240)  0           ['expanded_conv_6/depthwise/Batch\n",
      "                                                                 Norm[0][0]',                     \n",
      "                                                                  'tf.math.multiply_63[0][0]']    \n",
      "                                                                                                  \n",
      " expanded_conv_6/project (Conv2  (None, 14, 14, 80)  19200       ['multiply_44[0][0]']            \n",
      " D)                                                                                               \n",
      "                                                                                                  \n",
      " expanded_conv_6/project/BatchN  (None, 14, 14, 80)  320         ['expanded_conv_6/project[0][0]']\n",
      " orm (BatchNormalization)                                                                         \n",
      "                                                                                                  \n",
      " expanded_conv_7/expand (Conv2D  (None, 14, 14, 200)  16000      ['expanded_conv_6/project/BatchNo\n",
      " )                                                               rm[0][0]']                       \n",
      "                                                                                                  \n",
      " expanded_conv_7/expand/BatchNo  (None, 14, 14, 200)  800        ['expanded_conv_7/expand[0][0]'] \n",
      " rm (BatchNormalization)                                                                          \n",
      "                                                                                                  \n",
      " tf.__operators__.add_64 (TFOpL  (None, 14, 14, 200)  0          ['expanded_conv_7/expand/BatchNor\n",
      " ambda)                                                          m[0][0]']                        \n",
      "                                                                                                  \n",
      " re_lu_97 (ReLU)                (None, 14, 14, 200)  0           ['tf.__operators__.add_64[0][0]']\n",
      "                                                                                                  \n",
      " tf.math.multiply_64 (TFOpLambd  (None, 14, 14, 200)  0          ['re_lu_97[0][0]']               \n",
      " a)                                                                                               \n",
      "                                                                                                  \n",
      " multiply_45 (Multiply)         (None, 14, 14, 200)  0           ['expanded_conv_7/expand/BatchNor\n",
      "                                                                 m[0][0]',                        \n",
      "                                                                  'tf.math.multiply_64[0][0]']    \n",
      "                                                                                                  \n",
      " expanded_conv_7/depthwise (Dep  (None, 14, 14, 200)  1800       ['multiply_45[0][0]']            \n",
      " thwiseConv2D)                                                                                    \n",
      "                                                                                                  \n",
      " expanded_conv_7/depthwise/Batc  (None, 14, 14, 200)  800        ['expanded_conv_7/depthwise[0][0]\n",
      " hNorm (BatchNormalization)                                      ']                               \n",
      "                                                                                                  \n",
      " tf.__operators__.add_65 (TFOpL  (None, 14, 14, 200)  0          ['expanded_conv_7/depthwise/Batch\n",
      " ambda)                                                          Norm[0][0]']                     \n",
      "                                                                                                  \n",
      " re_lu_98 (ReLU)                (None, 14, 14, 200)  0           ['tf.__operators__.add_65[0][0]']\n",
      "                                                                                                  \n",
      " tf.math.multiply_65 (TFOpLambd  (None, 14, 14, 200)  0          ['re_lu_98[0][0]']               \n"
     ]
    },
    {
     "name": "stdout",
     "output_type": "stream",
     "text": [
      " a)                                                                                               \n",
      "                                                                                                  \n",
      " multiply_46 (Multiply)         (None, 14, 14, 200)  0           ['expanded_conv_7/depthwise/Batch\n",
      "                                                                 Norm[0][0]',                     \n",
      "                                                                  'tf.math.multiply_65[0][0]']    \n",
      "                                                                                                  \n",
      " expanded_conv_7/project (Conv2  (None, 14, 14, 80)  16000       ['multiply_46[0][0]']            \n",
      " D)                                                                                               \n",
      "                                                                                                  \n",
      " expanded_conv_7/project/BatchN  (None, 14, 14, 80)  320         ['expanded_conv_7/project[0][0]']\n",
      " orm (BatchNormalization)                                                                         \n",
      "                                                                                                  \n",
      " expanded_conv_7/Add (Add)      (None, 14, 14, 80)   0           ['expanded_conv_6/project/BatchNo\n",
      "                                                                 rm[0][0]',                       \n",
      "                                                                  'expanded_conv_7/project/BatchNo\n",
      "                                                                 rm[0][0]']                       \n",
      "                                                                                                  \n",
      " expanded_conv_8/expand (Conv2D  (None, 14, 14, 184)  14720      ['expanded_conv_7/Add[0][0]']    \n",
      " )                                                                                                \n",
      "                                                                                                  \n",
      " expanded_conv_8/expand/BatchNo  (None, 14, 14, 184)  736        ['expanded_conv_8/expand[0][0]'] \n",
      " rm (BatchNormalization)                                                                          \n",
      "                                                                                                  \n",
      " tf.__operators__.add_66 (TFOpL  (None, 14, 14, 184)  0          ['expanded_conv_8/expand/BatchNor\n",
      " ambda)                                                          m[0][0]']                        \n",
      "                                                                                                  \n",
      " re_lu_99 (ReLU)                (None, 14, 14, 184)  0           ['tf.__operators__.add_66[0][0]']\n",
      "                                                                                                  \n",
      " tf.math.multiply_66 (TFOpLambd  (None, 14, 14, 184)  0          ['re_lu_99[0][0]']               \n",
      " a)                                                                                               \n",
      "                                                                                                  \n",
      " multiply_47 (Multiply)         (None, 14, 14, 184)  0           ['expanded_conv_8/expand/BatchNor\n",
      "                                                                 m[0][0]',                        \n",
      "                                                                  'tf.math.multiply_66[0][0]']    \n",
      "                                                                                                  \n",
      " expanded_conv_8/depthwise (Dep  (None, 14, 14, 184)  1656       ['multiply_47[0][0]']            \n",
      " thwiseConv2D)                                                                                    \n",
      "                                                                                                  \n",
      " expanded_conv_8/depthwise/Batc  (None, 14, 14, 184)  736        ['expanded_conv_8/depthwise[0][0]\n",
      " hNorm (BatchNormalization)                                      ']                               \n",
      "                                                                                                  \n",
      " tf.__operators__.add_67 (TFOpL  (None, 14, 14, 184)  0          ['expanded_conv_8/depthwise/Batch\n",
      " ambda)                                                          Norm[0][0]']                     \n",
      "                                                                                                  \n",
      " re_lu_100 (ReLU)               (None, 14, 14, 184)  0           ['tf.__operators__.add_67[0][0]']\n",
      "                                                                                                  \n",
      " tf.math.multiply_67 (TFOpLambd  (None, 14, 14, 184)  0          ['re_lu_100[0][0]']              \n",
      " a)                                                                                               \n",
      "                                                                                                  \n",
      " multiply_48 (Multiply)         (None, 14, 14, 184)  0           ['expanded_conv_8/depthwise/Batch\n",
      "                                                                 Norm[0][0]',                     \n",
      "                                                                  'tf.math.multiply_67[0][0]']    \n",
      "                                                                                                  \n",
      " expanded_conv_8/project (Conv2  (None, 14, 14, 80)  14720       ['multiply_48[0][0]']            \n",
      " D)                                                                                               \n",
      "                                                                                                  \n",
      " expanded_conv_8/project/BatchN  (None, 14, 14, 80)  320         ['expanded_conv_8/project[0][0]']\n",
      " orm (BatchNormalization)                                                                         \n",
      "                                                                                                  \n",
      " expanded_conv_8/Add (Add)      (None, 14, 14, 80)   0           ['expanded_conv_7/Add[0][0]',    \n",
      "                                                                  'expanded_conv_8/project/BatchNo\n",
      "                                                                 rm[0][0]']                       \n",
      "                                                                                                  \n",
      " expanded_conv_9/expand (Conv2D  (None, 14, 14, 184)  14720      ['expanded_conv_8/Add[0][0]']    \n",
      " )                                                                                                \n",
      "                                                                                                  \n",
      " expanded_conv_9/expand/BatchNo  (None, 14, 14, 184)  736        ['expanded_conv_9/expand[0][0]'] \n",
      " rm (BatchNormalization)                                                                          \n",
      "                                                                                                  \n",
      " tf.__operators__.add_68 (TFOpL  (None, 14, 14, 184)  0          ['expanded_conv_9/expand/BatchNor\n",
      " ambda)                                                          m[0][0]']                        \n",
      "                                                                                                  \n",
      " re_lu_101 (ReLU)               (None, 14, 14, 184)  0           ['tf.__operators__.add_68[0][0]']\n",
      "                                                                                                  \n",
      " tf.math.multiply_68 (TFOpLambd  (None, 14, 14, 184)  0          ['re_lu_101[0][0]']              \n",
      " a)                                                                                               \n",
      "                                                                                                  \n",
      " multiply_49 (Multiply)         (None, 14, 14, 184)  0           ['expanded_conv_9/expand/BatchNor\n",
      "                                                                 m[0][0]',                        \n",
      "                                                                  'tf.math.multiply_68[0][0]']    \n",
      "                                                                                                  \n",
      " expanded_conv_9/depthwise (Dep  (None, 14, 14, 184)  1656       ['multiply_49[0][0]']            \n",
      " thwiseConv2D)                                                                                    \n"
     ]
    },
    {
     "name": "stdout",
     "output_type": "stream",
     "text": [
      "                                                                                                  \n",
      " expanded_conv_9/depthwise/Batc  (None, 14, 14, 184)  736        ['expanded_conv_9/depthwise[0][0]\n",
      " hNorm (BatchNormalization)                                      ']                               \n",
      "                                                                                                  \n",
      " tf.__operators__.add_69 (TFOpL  (None, 14, 14, 184)  0          ['expanded_conv_9/depthwise/Batch\n",
      " ambda)                                                          Norm[0][0]']                     \n",
      "                                                                                                  \n",
      " re_lu_102 (ReLU)               (None, 14, 14, 184)  0           ['tf.__operators__.add_69[0][0]']\n",
      "                                                                                                  \n",
      " tf.math.multiply_69 (TFOpLambd  (None, 14, 14, 184)  0          ['re_lu_102[0][0]']              \n",
      " a)                                                                                               \n",
      "                                                                                                  \n",
      " multiply_50 (Multiply)         (None, 14, 14, 184)  0           ['expanded_conv_9/depthwise/Batch\n",
      "                                                                 Norm[0][0]',                     \n",
      "                                                                  'tf.math.multiply_69[0][0]']    \n",
      "                                                                                                  \n",
      " expanded_conv_9/project (Conv2  (None, 14, 14, 80)  14720       ['multiply_50[0][0]']            \n",
      " D)                                                                                               \n",
      "                                                                                                  \n",
      " expanded_conv_9/project/BatchN  (None, 14, 14, 80)  320         ['expanded_conv_9/project[0][0]']\n",
      " orm (BatchNormalization)                                                                         \n",
      "                                                                                                  \n",
      " expanded_conv_9/Add (Add)      (None, 14, 14, 80)   0           ['expanded_conv_8/Add[0][0]',    \n",
      "                                                                  'expanded_conv_9/project/BatchNo\n",
      "                                                                 rm[0][0]']                       \n",
      "                                                                                                  \n",
      " expanded_conv_10/expand (Conv2  (None, 14, 14, 480)  38400      ['expanded_conv_9/Add[0][0]']    \n",
      " D)                                                                                               \n",
      "                                                                                                  \n",
      " expanded_conv_10/expand/BatchN  (None, 14, 14, 480)  1920       ['expanded_conv_10/expand[0][0]']\n",
      " orm (BatchNormalization)                                                                         \n",
      "                                                                                                  \n",
      " tf.__operators__.add_70 (TFOpL  (None, 14, 14, 480)  0          ['expanded_conv_10/expand/BatchNo\n",
      " ambda)                                                          rm[0][0]']                       \n",
      "                                                                                                  \n",
      " re_lu_103 (ReLU)               (None, 14, 14, 480)  0           ['tf.__operators__.add_70[0][0]']\n",
      "                                                                                                  \n",
      " tf.math.multiply_70 (TFOpLambd  (None, 14, 14, 480)  0          ['re_lu_103[0][0]']              \n",
      " a)                                                                                               \n",
      "                                                                                                  \n",
      " multiply_51 (Multiply)         (None, 14, 14, 480)  0           ['expanded_conv_10/expand/BatchNo\n",
      "                                                                 rm[0][0]',                       \n",
      "                                                                  'tf.math.multiply_70[0][0]']    \n",
      "                                                                                                  \n",
      " expanded_conv_10/depthwise (De  (None, 14, 14, 480)  4320       ['multiply_51[0][0]']            \n",
      " pthwiseConv2D)                                                                                   \n",
      "                                                                                                  \n",
      " expanded_conv_10/depthwise/Bat  (None, 14, 14, 480)  1920       ['expanded_conv_10/depthwise[0][0\n",
      " chNorm (BatchNormalization)                                     ]']                              \n",
      "                                                                                                  \n",
      " tf.__operators__.add_71 (TFOpL  (None, 14, 14, 480)  0          ['expanded_conv_10/depthwise/Batc\n",
      " ambda)                                                          hNorm[0][0]']                    \n",
      "                                                                                                  \n",
      " re_lu_104 (ReLU)               (None, 14, 14, 480)  0           ['tf.__operators__.add_71[0][0]']\n",
      "                                                                                                  \n",
      " tf.math.multiply_71 (TFOpLambd  (None, 14, 14, 480)  0          ['re_lu_104[0][0]']              \n",
      " a)                                                                                               \n",
      "                                                                                                  \n",
      " multiply_52 (Multiply)         (None, 14, 14, 480)  0           ['expanded_conv_10/depthwise/Batc\n",
      "                                                                 hNorm[0][0]',                    \n",
      "                                                                  'tf.math.multiply_71[0][0]']    \n",
      "                                                                                                  \n",
      " expanded_conv_10/squeeze_excit  (None, 1, 1, 480)   0           ['multiply_52[0][0]']            \n",
      " e/AvgPool (GlobalAveragePoolin                                                                   \n",
      " g2D)                                                                                             \n",
      "                                                                                                  \n",
      " expanded_conv_10/squeeze_excit  (None, 1, 1, 120)   57720       ['expanded_conv_10/squeeze_excite\n",
      " e/Conv (Conv2D)                                                 /AvgPool[0][0]']                 \n",
      "                                                                                                  \n",
      " expanded_conv_10/squeeze_excit  (None, 1, 1, 120)   0           ['expanded_conv_10/squeeze_excite\n",
      " e/Relu (ReLU)                                                   /Conv[0][0]']                    \n",
      "                                                                                                  \n",
      " expanded_conv_10/squeeze_excit  (None, 1, 1, 480)   58080       ['expanded_conv_10/squeeze_excite\n",
      " e/Conv_1 (Conv2D)                                               /Relu[0][0]']                    \n",
      "                                                                                                  \n",
      " tf.__operators__.add_72 (TFOpL  (None, 1, 1, 480)   0           ['expanded_conv_10/squeeze_excite\n",
      " ambda)                                                          /Conv_1[0][0]']                  \n",
      "                                                                                                  \n",
      " re_lu_105 (ReLU)               (None, 1, 1, 480)    0           ['tf.__operators__.add_72[0][0]']\n",
      "                                                                                                  \n",
      " tf.math.multiply_72 (TFOpLambd  (None, 1, 1, 480)   0           ['re_lu_105[0][0]']              \n",
      " a)                                                                                               \n",
      "                                                                                                  \n"
     ]
    },
    {
     "name": "stdout",
     "output_type": "stream",
     "text": [
      " expanded_conv_10/squeeze_excit  (None, 14, 14, 480)  0          ['multiply_52[0][0]',            \n",
      " e/Mul (Multiply)                                                 'tf.math.multiply_72[0][0]']    \n",
      "                                                                                                  \n",
      " expanded_conv_10/project (Conv  (None, 14, 14, 112)  53760      ['expanded_conv_10/squeeze_excite\n",
      " 2D)                                                             /Mul[0][0]']                     \n",
      "                                                                                                  \n",
      " expanded_conv_10/project/Batch  (None, 14, 14, 112)  448        ['expanded_conv_10/project[0][0]'\n",
      " Norm (BatchNormalization)                                       ]                                \n",
      "                                                                                                  \n",
      " expanded_conv_11/expand (Conv2  (None, 14, 14, 672)  75264      ['expanded_conv_10/project/BatchN\n",
      " D)                                                              orm[0][0]']                      \n",
      "                                                                                                  \n",
      " expanded_conv_11/expand/BatchN  (None, 14, 14, 672)  2688       ['expanded_conv_11/expand[0][0]']\n",
      " orm (BatchNormalization)                                                                         \n",
      "                                                                                                  \n",
      " tf.__operators__.add_73 (TFOpL  (None, 14, 14, 672)  0          ['expanded_conv_11/expand/BatchNo\n",
      " ambda)                                                          rm[0][0]']                       \n",
      "                                                                                                  \n",
      " re_lu_106 (ReLU)               (None, 14, 14, 672)  0           ['tf.__operators__.add_73[0][0]']\n",
      "                                                                                                  \n",
      " tf.math.multiply_73 (TFOpLambd  (None, 14, 14, 672)  0          ['re_lu_106[0][0]']              \n",
      " a)                                                                                               \n",
      "                                                                                                  \n",
      " multiply_53 (Multiply)         (None, 14, 14, 672)  0           ['expanded_conv_11/expand/BatchNo\n",
      "                                                                 rm[0][0]',                       \n",
      "                                                                  'tf.math.multiply_73[0][0]']    \n",
      "                                                                                                  \n",
      " expanded_conv_11/depthwise (De  (None, 14, 14, 672)  6048       ['multiply_53[0][0]']            \n",
      " pthwiseConv2D)                                                                                   \n",
      "                                                                                                  \n",
      " expanded_conv_11/depthwise/Bat  (None, 14, 14, 672)  2688       ['expanded_conv_11/depthwise[0][0\n",
      " chNorm (BatchNormalization)                                     ]']                              \n",
      "                                                                                                  \n",
      " tf.__operators__.add_74 (TFOpL  (None, 14, 14, 672)  0          ['expanded_conv_11/depthwise/Batc\n",
      " ambda)                                                          hNorm[0][0]']                    \n",
      "                                                                                                  \n",
      " re_lu_107 (ReLU)               (None, 14, 14, 672)  0           ['tf.__operators__.add_74[0][0]']\n",
      "                                                                                                  \n",
      " tf.math.multiply_74 (TFOpLambd  (None, 14, 14, 672)  0          ['re_lu_107[0][0]']              \n",
      " a)                                                                                               \n",
      "                                                                                                  \n",
      " multiply_54 (Multiply)         (None, 14, 14, 672)  0           ['expanded_conv_11/depthwise/Batc\n",
      "                                                                 hNorm[0][0]',                    \n",
      "                                                                  'tf.math.multiply_74[0][0]']    \n",
      "                                                                                                  \n",
      " expanded_conv_11/squeeze_excit  (None, 1, 1, 672)   0           ['multiply_54[0][0]']            \n",
      " e/AvgPool (GlobalAveragePoolin                                                                   \n",
      " g2D)                                                                                             \n",
      "                                                                                                  \n",
      " expanded_conv_11/squeeze_excit  (None, 1, 1, 168)   113064      ['expanded_conv_11/squeeze_excite\n",
      " e/Conv (Conv2D)                                                 /AvgPool[0][0]']                 \n",
      "                                                                                                  \n",
      " expanded_conv_11/squeeze_excit  (None, 1, 1, 168)   0           ['expanded_conv_11/squeeze_excite\n",
      " e/Relu (ReLU)                                                   /Conv[0][0]']                    \n",
      "                                                                                                  \n",
      " expanded_conv_11/squeeze_excit  (None, 1, 1, 672)   113568      ['expanded_conv_11/squeeze_excite\n",
      " e/Conv_1 (Conv2D)                                               /Relu[0][0]']                    \n",
      "                                                                                                  \n",
      " tf.__operators__.add_75 (TFOpL  (None, 1, 1, 672)   0           ['expanded_conv_11/squeeze_excite\n",
      " ambda)                                                          /Conv_1[0][0]']                  \n",
      "                                                                                                  \n",
      " re_lu_108 (ReLU)               (None, 1, 1, 672)    0           ['tf.__operators__.add_75[0][0]']\n",
      "                                                                                                  \n",
      " tf.math.multiply_75 (TFOpLambd  (None, 1, 1, 672)   0           ['re_lu_108[0][0]']              \n",
      " a)                                                                                               \n",
      "                                                                                                  \n",
      " expanded_conv_11/squeeze_excit  (None, 14, 14, 672)  0          ['multiply_54[0][0]',            \n",
      " e/Mul (Multiply)                                                 'tf.math.multiply_75[0][0]']    \n",
      "                                                                                                  \n",
      " expanded_conv_11/project (Conv  (None, 14, 14, 112)  75264      ['expanded_conv_11/squeeze_excite\n",
      " 2D)                                                             /Mul[0][0]']                     \n",
      "                                                                                                  \n",
      " expanded_conv_11/project/Batch  (None, 14, 14, 112)  448        ['expanded_conv_11/project[0][0]'\n",
      " Norm (BatchNormalization)                                       ]                                \n",
      "                                                                                                  \n",
      " expanded_conv_11/Add (Add)     (None, 14, 14, 112)  0           ['expanded_conv_10/project/BatchN\n",
      "                                                                 orm[0][0]',                      \n",
      "                                                                  'expanded_conv_11/project/BatchN\n",
      "                                                                 orm[0][0]']                      \n",
      "                                                                                                  \n",
      " expanded_conv_12/expand (Conv2  (None, 14, 14, 672)  75264      ['expanded_conv_11/Add[0][0]']   \n",
      " D)                                                                                               \n",
      "                                                                                                  \n"
     ]
    },
    {
     "name": "stdout",
     "output_type": "stream",
     "text": [
      " expanded_conv_12/expand/BatchN  (None, 14, 14, 672)  2688       ['expanded_conv_12/expand[0][0]']\n",
      " orm (BatchNormalization)                                                                         \n",
      "                                                                                                  \n",
      " tf.__operators__.add_76 (TFOpL  (None, 14, 14, 672)  0          ['expanded_conv_12/expand/BatchNo\n",
      " ambda)                                                          rm[0][0]']                       \n",
      "                                                                                                  \n",
      " re_lu_109 (ReLU)               (None, 14, 14, 672)  0           ['tf.__operators__.add_76[0][0]']\n",
      "                                                                                                  \n",
      " tf.math.multiply_76 (TFOpLambd  (None, 14, 14, 672)  0          ['re_lu_109[0][0]']              \n",
      " a)                                                                                               \n",
      "                                                                                                  \n",
      " multiply_55 (Multiply)         (None, 14, 14, 672)  0           ['expanded_conv_12/expand/BatchNo\n",
      "                                                                 rm[0][0]',                       \n",
      "                                                                  'tf.math.multiply_76[0][0]']    \n",
      "                                                                                                  \n",
      " expanded_conv_12/depthwise/pad  (None, 17, 17, 672)  0          ['multiply_55[0][0]']            \n",
      "  (ZeroPadding2D)                                                                                 \n",
      "                                                                                                  \n",
      " expanded_conv_12/depthwise (De  (None, 7, 7, 672)   16800       ['expanded_conv_12/depthwise/pad[\n",
      " pthwiseConv2D)                                                  0][0]']                          \n",
      "                                                                                                  \n",
      " expanded_conv_12/depthwise/Bat  (None, 7, 7, 672)   2688        ['expanded_conv_12/depthwise[0][0\n",
      " chNorm (BatchNormalization)                                     ]']                              \n",
      "                                                                                                  \n",
      " tf.__operators__.add_77 (TFOpL  (None, 7, 7, 672)   0           ['expanded_conv_12/depthwise/Batc\n",
      " ambda)                                                          hNorm[0][0]']                    \n",
      "                                                                                                  \n",
      " re_lu_110 (ReLU)               (None, 7, 7, 672)    0           ['tf.__operators__.add_77[0][0]']\n",
      "                                                                                                  \n",
      " tf.math.multiply_77 (TFOpLambd  (None, 7, 7, 672)   0           ['re_lu_110[0][0]']              \n",
      " a)                                                                                               \n",
      "                                                                                                  \n",
      " multiply_56 (Multiply)         (None, 7, 7, 672)    0           ['expanded_conv_12/depthwise/Batc\n",
      "                                                                 hNorm[0][0]',                    \n",
      "                                                                  'tf.math.multiply_77[0][0]']    \n",
      "                                                                                                  \n",
      " expanded_conv_12/squeeze_excit  (None, 1, 1, 672)   0           ['multiply_56[0][0]']            \n",
      " e/AvgPool (GlobalAveragePoolin                                                                   \n",
      " g2D)                                                                                             \n",
      "                                                                                                  \n",
      " expanded_conv_12/squeeze_excit  (None, 1, 1, 168)   113064      ['expanded_conv_12/squeeze_excite\n",
      " e/Conv (Conv2D)                                                 /AvgPool[0][0]']                 \n",
      "                                                                                                  \n",
      " expanded_conv_12/squeeze_excit  (None, 1, 1, 168)   0           ['expanded_conv_12/squeeze_excite\n",
      " e/Relu (ReLU)                                                   /Conv[0][0]']                    \n",
      "                                                                                                  \n",
      " expanded_conv_12/squeeze_excit  (None, 1, 1, 672)   113568      ['expanded_conv_12/squeeze_excite\n",
      " e/Conv_1 (Conv2D)                                               /Relu[0][0]']                    \n",
      "                                                                                                  \n",
      " tf.__operators__.add_78 (TFOpL  (None, 1, 1, 672)   0           ['expanded_conv_12/squeeze_excite\n",
      " ambda)                                                          /Conv_1[0][0]']                  \n",
      "                                                                                                  \n",
      " re_lu_111 (ReLU)               (None, 1, 1, 672)    0           ['tf.__operators__.add_78[0][0]']\n",
      "                                                                                                  \n",
      " tf.math.multiply_78 (TFOpLambd  (None, 1, 1, 672)   0           ['re_lu_111[0][0]']              \n",
      " a)                                                                                               \n",
      "                                                                                                  \n",
      " expanded_conv_12/squeeze_excit  (None, 7, 7, 672)   0           ['multiply_56[0][0]',            \n",
      " e/Mul (Multiply)                                                 'tf.math.multiply_78[0][0]']    \n",
      "                                                                                                  \n",
      " expanded_conv_12/project (Conv  (None, 7, 7, 160)   107520      ['expanded_conv_12/squeeze_excite\n",
      " 2D)                                                             /Mul[0][0]']                     \n",
      "                                                                                                  \n",
      " expanded_conv_12/project/Batch  (None, 7, 7, 160)   640         ['expanded_conv_12/project[0][0]'\n",
      " Norm (BatchNormalization)                                       ]                                \n",
      "                                                                                                  \n",
      " expanded_conv_13/expand (Conv2  (None, 7, 7, 960)   153600      ['expanded_conv_12/project/BatchN\n",
      " D)                                                              orm[0][0]']                      \n",
      "                                                                                                  \n",
      " expanded_conv_13/expand/BatchN  (None, 7, 7, 960)   3840        ['expanded_conv_13/expand[0][0]']\n",
      " orm (BatchNormalization)                                                                         \n",
      "                                                                                                  \n",
      " tf.__operators__.add_79 (TFOpL  (None, 7, 7, 960)   0           ['expanded_conv_13/expand/BatchNo\n",
      " ambda)                                                          rm[0][0]']                       \n",
      "                                                                                                  \n",
      " re_lu_112 (ReLU)               (None, 7, 7, 960)    0           ['tf.__operators__.add_79[0][0]']\n",
      "                                                                                                  \n",
      " tf.math.multiply_79 (TFOpLambd  (None, 7, 7, 960)   0           ['re_lu_112[0][0]']              \n",
      " a)                                                                                               \n",
      "                                                                                                  \n",
      " multiply_57 (Multiply)         (None, 7, 7, 960)    0           ['expanded_conv_13/expand/BatchNo\n",
      "                                                                 rm[0][0]',                       \n",
      "                                                                  'tf.math.multiply_79[0][0]']    \n"
     ]
    },
    {
     "name": "stdout",
     "output_type": "stream",
     "text": [
      "                                                                                                  \n",
      " expanded_conv_13/depthwise (De  (None, 7, 7, 960)   24000       ['multiply_57[0][0]']            \n",
      " pthwiseConv2D)                                                                                   \n",
      "                                                                                                  \n",
      " expanded_conv_13/depthwise/Bat  (None, 7, 7, 960)   3840        ['expanded_conv_13/depthwise[0][0\n",
      " chNorm (BatchNormalization)                                     ]']                              \n",
      "                                                                                                  \n",
      " tf.__operators__.add_80 (TFOpL  (None, 7, 7, 960)   0           ['expanded_conv_13/depthwise/Batc\n",
      " ambda)                                                          hNorm[0][0]']                    \n",
      "                                                                                                  \n",
      " re_lu_113 (ReLU)               (None, 7, 7, 960)    0           ['tf.__operators__.add_80[0][0]']\n",
      "                                                                                                  \n",
      " tf.math.multiply_80 (TFOpLambd  (None, 7, 7, 960)   0           ['re_lu_113[0][0]']              \n",
      " a)                                                                                               \n",
      "                                                                                                  \n",
      " multiply_58 (Multiply)         (None, 7, 7, 960)    0           ['expanded_conv_13/depthwise/Batc\n",
      "                                                                 hNorm[0][0]',                    \n",
      "                                                                  'tf.math.multiply_80[0][0]']    \n",
      "                                                                                                  \n",
      " expanded_conv_13/squeeze_excit  (None, 1, 1, 960)   0           ['multiply_58[0][0]']            \n",
      " e/AvgPool (GlobalAveragePoolin                                                                   \n",
      " g2D)                                                                                             \n",
      "                                                                                                  \n",
      " expanded_conv_13/squeeze_excit  (None, 1, 1, 240)   230640      ['expanded_conv_13/squeeze_excite\n",
      " e/Conv (Conv2D)                                                 /AvgPool[0][0]']                 \n",
      "                                                                                                  \n",
      " expanded_conv_13/squeeze_excit  (None, 1, 1, 240)   0           ['expanded_conv_13/squeeze_excite\n",
      " e/Relu (ReLU)                                                   /Conv[0][0]']                    \n",
      "                                                                                                  \n",
      " expanded_conv_13/squeeze_excit  (None, 1, 1, 960)   231360      ['expanded_conv_13/squeeze_excite\n",
      " e/Conv_1 (Conv2D)                                               /Relu[0][0]']                    \n",
      "                                                                                                  \n",
      " tf.__operators__.add_81 (TFOpL  (None, 1, 1, 960)   0           ['expanded_conv_13/squeeze_excite\n",
      " ambda)                                                          /Conv_1[0][0]']                  \n",
      "                                                                                                  \n",
      " re_lu_114 (ReLU)               (None, 1, 1, 960)    0           ['tf.__operators__.add_81[0][0]']\n",
      "                                                                                                  \n",
      " tf.math.multiply_81 (TFOpLambd  (None, 1, 1, 960)   0           ['re_lu_114[0][0]']              \n",
      " a)                                                                                               \n",
      "                                                                                                  \n",
      " expanded_conv_13/squeeze_excit  (None, 7, 7, 960)   0           ['multiply_58[0][0]',            \n",
      " e/Mul (Multiply)                                                 'tf.math.multiply_81[0][0]']    \n",
      "                                                                                                  \n",
      " expanded_conv_13/project (Conv  (None, 7, 7, 160)   153600      ['expanded_conv_13/squeeze_excite\n",
      " 2D)                                                             /Mul[0][0]']                     \n",
      "                                                                                                  \n",
      " expanded_conv_13/project/Batch  (None, 7, 7, 160)   640         ['expanded_conv_13/project[0][0]'\n",
      " Norm (BatchNormalization)                                       ]                                \n",
      "                                                                                                  \n",
      " expanded_conv_13/Add (Add)     (None, 7, 7, 160)    0           ['expanded_conv_12/project/BatchN\n",
      "                                                                 orm[0][0]',                      \n",
      "                                                                  'expanded_conv_13/project/BatchN\n",
      "                                                                 orm[0][0]']                      \n",
      "                                                                                                  \n",
      " expanded_conv_14/expand (Conv2  (None, 7, 7, 960)   153600      ['expanded_conv_13/Add[0][0]']   \n",
      " D)                                                                                               \n",
      "                                                                                                  \n",
      " expanded_conv_14/expand/BatchN  (None, 7, 7, 960)   3840        ['expanded_conv_14/expand[0][0]']\n",
      " orm (BatchNormalization)                                                                         \n",
      "                                                                                                  \n",
      " tf.__operators__.add_82 (TFOpL  (None, 7, 7, 960)   0           ['expanded_conv_14/expand/BatchNo\n",
      " ambda)                                                          rm[0][0]']                       \n",
      "                                                                                                  \n",
      " re_lu_115 (ReLU)               (None, 7, 7, 960)    0           ['tf.__operators__.add_82[0][0]']\n",
      "                                                                                                  \n",
      " tf.math.multiply_82 (TFOpLambd  (None, 7, 7, 960)   0           ['re_lu_115[0][0]']              \n",
      " a)                                                                                               \n",
      "                                                                                                  \n",
      " multiply_59 (Multiply)         (None, 7, 7, 960)    0           ['expanded_conv_14/expand/BatchNo\n",
      "                                                                 rm[0][0]',                       \n",
      "                                                                  'tf.math.multiply_82[0][0]']    \n",
      "                                                                                                  \n",
      " expanded_conv_14/depthwise (De  (None, 7, 7, 960)   24000       ['multiply_59[0][0]']            \n",
      " pthwiseConv2D)                                                                                   \n",
      "                                                                                                  \n",
      " expanded_conv_14/depthwise/Bat  (None, 7, 7, 960)   3840        ['expanded_conv_14/depthwise[0][0\n",
      " chNorm (BatchNormalization)                                     ]']                              \n",
      "                                                                                                  \n",
      " tf.__operators__.add_83 (TFOpL  (None, 7, 7, 960)   0           ['expanded_conv_14/depthwise/Batc\n",
      " ambda)                                                          hNorm[0][0]']                    \n",
      "                                                                                                  \n",
      " re_lu_116 (ReLU)               (None, 7, 7, 960)    0           ['tf.__operators__.add_83[0][0]']\n",
      "                                                                                                  \n"
     ]
    },
    {
     "name": "stdout",
     "output_type": "stream",
     "text": [
      " tf.math.multiply_83 (TFOpLambd  (None, 7, 7, 960)   0           ['re_lu_116[0][0]']              \n",
      " a)                                                                                               \n",
      "                                                                                                  \n",
      " multiply_60 (Multiply)         (None, 7, 7, 960)    0           ['expanded_conv_14/depthwise/Batc\n",
      "                                                                 hNorm[0][0]',                    \n",
      "                                                                  'tf.math.multiply_83[0][0]']    \n",
      "                                                                                                  \n",
      " expanded_conv_14/squeeze_excit  (None, 1, 1, 960)   0           ['multiply_60[0][0]']            \n",
      " e/AvgPool (GlobalAveragePoolin                                                                   \n",
      " g2D)                                                                                             \n",
      "                                                                                                  \n",
      " expanded_conv_14/squeeze_excit  (None, 1, 1, 240)   230640      ['expanded_conv_14/squeeze_excite\n",
      " e/Conv (Conv2D)                                                 /AvgPool[0][0]']                 \n",
      "                                                                                                  \n",
      " expanded_conv_14/squeeze_excit  (None, 1, 1, 240)   0           ['expanded_conv_14/squeeze_excite\n",
      " e/Relu (ReLU)                                                   /Conv[0][0]']                    \n",
      "                                                                                                  \n",
      " expanded_conv_14/squeeze_excit  (None, 1, 1, 960)   231360      ['expanded_conv_14/squeeze_excite\n",
      " e/Conv_1 (Conv2D)                                               /Relu[0][0]']                    \n",
      "                                                                                                  \n",
      " tf.__operators__.add_84 (TFOpL  (None, 1, 1, 960)   0           ['expanded_conv_14/squeeze_excite\n",
      " ambda)                                                          /Conv_1[0][0]']                  \n",
      "                                                                                                  \n",
      " re_lu_117 (ReLU)               (None, 1, 1, 960)    0           ['tf.__operators__.add_84[0][0]']\n",
      "                                                                                                  \n",
      " tf.math.multiply_84 (TFOpLambd  (None, 1, 1, 960)   0           ['re_lu_117[0][0]']              \n",
      " a)                                                                                               \n",
      "                                                                                                  \n",
      " expanded_conv_14/squeeze_excit  (None, 7, 7, 960)   0           ['multiply_60[0][0]',            \n",
      " e/Mul (Multiply)                                                 'tf.math.multiply_84[0][0]']    \n",
      "                                                                                                  \n",
      " expanded_conv_14/project (Conv  (None, 7, 7, 160)   153600      ['expanded_conv_14/squeeze_excite\n",
      " 2D)                                                             /Mul[0][0]']                     \n",
      "                                                                                                  \n",
      " expanded_conv_14/project/Batch  (None, 7, 7, 160)   640         ['expanded_conv_14/project[0][0]'\n",
      " Norm (BatchNormalization)                                       ]                                \n",
      "                                                                                                  \n",
      " expanded_conv_14/Add (Add)     (None, 7, 7, 160)    0           ['expanded_conv_13/Add[0][0]',   \n",
      "                                                                  'expanded_conv_14/project/BatchN\n",
      "                                                                 orm[0][0]']                      \n",
      "                                                                                                  \n",
      " Conv_1 (Conv2D)                (None, 7, 7, 960)    153600      ['expanded_conv_14/Add[0][0]']   \n",
      "                                                                                                  \n",
      " Conv_1/BatchNorm (BatchNormali  (None, 7, 7, 960)   3840        ['Conv_1[0][0]']                 \n",
      " zation)                                                                                          \n",
      "                                                                                                  \n",
      " tf.__operators__.add_85 (TFOpL  (None, 7, 7, 960)   0           ['Conv_1/BatchNorm[0][0]']       \n",
      " ambda)                                                                                           \n",
      "                                                                                                  \n",
      " re_lu_118 (ReLU)               (None, 7, 7, 960)    0           ['tf.__operators__.add_85[0][0]']\n",
      "                                                                                                  \n",
      " tf.math.multiply_85 (TFOpLambd  (None, 7, 7, 960)   0           ['re_lu_118[0][0]']              \n",
      " a)                                                                                               \n",
      "                                                                                                  \n",
      " multiply_61 (Multiply)         (None, 7, 7, 960)    0           ['Conv_1/BatchNorm[0][0]',       \n",
      "                                                                  'tf.math.multiply_85[0][0]']    \n",
      "                                                                                                  \n",
      " global_average_pooling2d_2 (Gl  (None, 1, 1, 960)   0           ['multiply_61[0][0]']            \n",
      " obalAveragePooling2D)                                                                            \n",
      "                                                                                                  \n",
      " Conv_2 (Conv2D)                (None, 1, 1, 1280)   1230080     ['global_average_pooling2d_2[0][0\n",
      "                                                                 ]']                              \n",
      "                                                                                                  \n",
      " tf.__operators__.add_86 (TFOpL  (None, 1, 1, 1280)  0           ['Conv_2[0][0]']                 \n",
      " ambda)                                                                                           \n",
      "                                                                                                  \n",
      " re_lu_119 (ReLU)               (None, 1, 1, 1280)   0           ['tf.__operators__.add_86[0][0]']\n",
      "                                                                                                  \n",
      " tf.math.multiply_86 (TFOpLambd  (None, 1, 1, 1280)  0           ['re_lu_119[0][0]']              \n",
      " a)                                                                                               \n",
      "                                                                                                  \n",
      " multiply_62 (Multiply)         (None, 1, 1, 1280)   0           ['Conv_2[0][0]',                 \n",
      "                                                                  'tf.math.multiply_86[0][0]']    \n",
      "                                                                                                  \n",
      " dropout_4 (Dropout)            (None, 1, 1, 1280)   0           ['multiply_62[0][0]']            \n",
      "                                                                                                  \n",
      " Logits (Conv2D)                (None, 1, 1, 1000)   1281000     ['dropout_4[0][0]']              \n",
      "                                                                                                  \n",
      " flatten_2 (Flatten)            (None, 1000)         0           ['Logits[0][0]']                 \n",
      "                                                                                                  \n",
      " Predictions (Activation)       (None, 1000)         0           ['flatten_2[0][0]']              \n",
      "                                                                                                  \n",
      "==================================================================================================\n"
     ]
    },
    {
     "name": "stdout",
     "output_type": "stream",
     "text": [
      "Total params: 5,507,432\n",
      "Trainable params: 0\n",
      "Non-trainable params: 5,507,432\n",
      "__________________________________________________________________________________________________\n"
     ]
    }
   ],
   "source": [
    "# Let's take a look at the base model architecture\n",
    "base_model.summary()"
   ]
  },
  {
   "cell_type": "code",
   "execution_count": 47,
   "id": "f1f7cc3f",
   "metadata": {},
   "outputs": [
    {
     "name": "stdout",
     "output_type": "stream",
     "text": [
      "Model: \"sequential_1\"\n",
      "_________________________________________________________________\n",
      " Layer (type)                Output Shape              Param #   \n",
      "=================================================================\n",
      " MobilenetV3large (Functiona  (None, 1000)             5507432   \n",
      " l)                                                              \n",
      "                                                                 \n",
      " dense_3 (Dense)             (None, 512)               512512    \n",
      "                                                                 \n",
      " dropout_5 (Dropout)         (None, 512)               0         \n",
      "                                                                 \n",
      " dense_4 (Dense)             (None, 256)               131328    \n",
      "                                                                 \n",
      " dropout_6 (Dropout)         (None, 256)               0         \n",
      "                                                                 \n",
      " dense_5 (Dense)             (None, 15)                3855      \n",
      "                                                                 \n",
      "=================================================================\n",
      "Total params: 6,155,127\n",
      "Trainable params: 647,695\n",
      "Non-trainable params: 5,507,432\n",
      "_________________________________________________________________\n"
     ]
    }
   ],
   "source": [
    "#setup input shape into the model\n",
    "INPUT_SHAPE = [None,IMG_SIZE, IMG_SIZE, 3] #batch, height, width, colour channel\n",
    "\n",
    "#setup output shape of our model\n",
    "OUTPUT_SHAPE = len(class_names)\n",
    "\n",
    "\n",
    "\n",
    "# Setup Layers\n",
    "model = tf.keras.Sequential([\n",
    "    base_model, # Layer 1 (Input Layer)\n",
    "    tf.keras.layers.Dense(units=512, activation=\"relu\"), # Hidden Layer   \n",
    "    tf.keras.layers.Dropout(0.2),\n",
    "    tf.keras.layers.Dense(units=256, activation=\"relu\"), # Hidden Layer       \n",
    "    tf.keras.layers.Dropout(0.2),\n",
    "    tf.keras.layers.Dense(units=OUTPUT_SHAPE, activation=\"softmax\") # Layer 4 (Output Layer)       \n",
    "])\n",
    "\n",
    "\n",
    "# Compiling the model\n",
    "base_learning_rate = 0.0001\n",
    "model.compile(\n",
    "      loss=tf.keras.losses.CategoricalCrossentropy(),\n",
    "      optimizer=tf.keras.optimizers.Adam(learning_rate=base_learning_rate),\n",
    "      metrics =[\"accuracy\"]\n",
    ")\n",
    "\n",
    "# Build Model\n",
    "model.build(INPUT_SHAPE)\n",
    "model.summary()"
   ]
  },
  {
   "cell_type": "markdown",
   "id": "9c12e912",
   "metadata": {},
   "source": [
    "# Initial Run"
   ]
  },
  {
   "cell_type": "code",
   "execution_count": 48,
   "id": "2f5eeaad",
   "metadata": {},
   "outputs": [
    {
     "name": "stdout",
     "output_type": "stream",
     "text": [
      "36/36 [==============================] - 20s 524ms/step - loss: 2.7039 - accuracy: 0.1218\n"
     ]
    }
   ],
   "source": [
    "loss0, accuracy0 = model.evaluate(val_ds)"
   ]
  },
  {
   "cell_type": "code",
   "execution_count": 49,
   "id": "4ef258ca",
   "metadata": {},
   "outputs": [
    {
     "name": "stdout",
     "output_type": "stream",
     "text": [
      "initial loss: 2.70\n",
      "initial accuracy: 0.12\n"
     ]
    }
   ],
   "source": [
    "print(\"initial loss: {:.2f}\".format(loss0))\n",
    "print(\"initial accuracy: {:.2f}\".format(accuracy0))"
   ]
  },
  {
   "cell_type": "code",
   "execution_count": 57,
   "id": "54df71da",
   "metadata": {},
   "outputs": [],
   "source": [
    "import datetime\n",
    "\n",
    "def create_model_checkpoint(dir, suffix=None):\n",
    "    modeldir = os.path.join(dir, \"Models\",\n",
    "                            datetime.datetime.now().strftime(\"%Y_%m_%d-%H_%M_%S\"))\n",
    "    \n",
    "    model_path = modeldir + \"-\" + suffix\n",
    "    print(f\"Model will be saved to `{model_path}`\")\n",
    "    return tf.keras.callbacks.ModelCheckpoint(model_path, monitor='val_accuracy',save_best_only=True)"
   ]
  },
  {
   "cell_type": "code",
   "execution_count": 58,
   "id": "e450d72f",
   "metadata": {},
   "outputs": [
    {
     "name": "stdout",
     "output_type": "stream",
     "text": [
      "Model will be saved to `Notebook_Outputs\\Models\\2023_01_03-13_01_36-cats_classifier`\n",
      "Epoch 1/40\n",
      "141/141 [==============================] - ETA: 0s - loss: 2.6313 - accuracy: 0.2651"
     ]
    },
    {
     "name": "stderr",
     "output_type": "stream",
     "text": [
      "WARNING:absl:Function `_wrapped_model` contains input name(s) MobilenetV3large_input with unsupported characters which will be renamed to mobilenetv3large_input in the SavedModel.\n",
      "WARNING:absl:Found untraced functions such as _update_step_xla, _jit_compiled_convolution_op, _jit_compiled_convolution_op, _jit_compiled_convolution_op, _jit_compiled_convolution_op while saving (showing 5 of 65). These functions will not be directly callable after loading.\n"
     ]
    },
    {
     "name": "stdout",
     "output_type": "stream",
     "text": [
      "INFO:tensorflow:Assets written to: Notebook_Outputs\\Models\\2023_01_03-13_01_36-cats_classifier\\assets\n"
     ]
    },
    {
     "name": "stderr",
     "output_type": "stream",
     "text": [
      "INFO:tensorflow:Assets written to: Notebook_Outputs\\Models\\2023_01_03-13_01_36-cats_classifier\\assets\n"
     ]
    },
    {
     "name": "stdout",
     "output_type": "stream",
     "text": [
      "141/141 [==============================] - 119s 799ms/step - loss: 2.6313 - accuracy: 0.2651 - val_loss: 2.5231 - val_accuracy: 0.2738\n",
      "Epoch 2/40\n",
      "141/141 [==============================] - ETA: 0s - loss: 2.3482 - accuracy: 0.3031"
     ]
    },
    {
     "name": "stderr",
     "output_type": "stream",
     "text": [
      "WARNING:absl:Function `_wrapped_model` contains input name(s) MobilenetV3large_input with unsupported characters which will be renamed to mobilenetv3large_input in the SavedModel.\n",
      "WARNING:absl:Found untraced functions such as _update_step_xla, _jit_compiled_convolution_op, _jit_compiled_convolution_op, _jit_compiled_convolution_op, _jit_compiled_convolution_op while saving (showing 5 of 65). These functions will not be directly callable after loading.\n"
     ]
    },
    {
     "name": "stdout",
     "output_type": "stream",
     "text": [
      "INFO:tensorflow:Assets written to: Notebook_Outputs\\Models\\2023_01_03-13_01_36-cats_classifier\\assets\n"
     ]
    },
    {
     "name": "stderr",
     "output_type": "stream",
     "text": [
      "INFO:tensorflow:Assets written to: Notebook_Outputs\\Models\\2023_01_03-13_01_36-cats_classifier\\assets\n"
     ]
    },
    {
     "name": "stdout",
     "output_type": "stream",
     "text": [
      "141/141 [==============================] - 105s 745ms/step - loss: 2.3482 - accuracy: 0.3031 - val_loss: 2.1701 - val_accuracy: 0.2907\n",
      "Epoch 3/40\n",
      "141/141 [==============================] - ETA: 0s - loss: 2.0492 - accuracy: 0.3331"
     ]
    },
    {
     "name": "stderr",
     "output_type": "stream",
     "text": [
      "WARNING:absl:Function `_wrapped_model` contains input name(s) MobilenetV3large_input with unsupported characters which will be renamed to mobilenetv3large_input in the SavedModel.\n",
      "WARNING:absl:Found untraced functions such as _update_step_xla, _jit_compiled_convolution_op, _jit_compiled_convolution_op, _jit_compiled_convolution_op, _jit_compiled_convolution_op while saving (showing 5 of 65). These functions will not be directly callable after loading.\n"
     ]
    },
    {
     "name": "stdout",
     "output_type": "stream",
     "text": [
      "INFO:tensorflow:Assets written to: Notebook_Outputs\\Models\\2023_01_03-13_01_36-cats_classifier\\assets\n"
     ]
    },
    {
     "name": "stderr",
     "output_type": "stream",
     "text": [
      "INFO:tensorflow:Assets written to: Notebook_Outputs\\Models\\2023_01_03-13_01_36-cats_classifier\\assets\n"
     ]
    },
    {
     "name": "stdout",
     "output_type": "stream",
     "text": [
      "141/141 [==============================] - 113s 802ms/step - loss: 2.0492 - accuracy: 0.3331 - val_loss: 1.9283 - val_accuracy: 0.3387\n",
      "Epoch 4/40\n",
      "141/141 [==============================] - ETA: 0s - loss: 1.8758 - accuracy: 0.3691"
     ]
    },
    {
     "name": "stderr",
     "output_type": "stream",
     "text": [
      "WARNING:absl:Function `_wrapped_model` contains input name(s) MobilenetV3large_input with unsupported characters which will be renamed to mobilenetv3large_input in the SavedModel.\n",
      "WARNING:absl:Found untraced functions such as _update_step_xla, _jit_compiled_convolution_op, _jit_compiled_convolution_op, _jit_compiled_convolution_op, _jit_compiled_convolution_op while saving (showing 5 of 65). These functions will not be directly callable after loading.\n"
     ]
    },
    {
     "name": "stdout",
     "output_type": "stream",
     "text": [
      "INFO:tensorflow:Assets written to: Notebook_Outputs\\Models\\2023_01_03-13_01_36-cats_classifier\\assets\n"
     ]
    },
    {
     "name": "stderr",
     "output_type": "stream",
     "text": [
      "INFO:tensorflow:Assets written to: Notebook_Outputs\\Models\\2023_01_03-13_01_36-cats_classifier\\assets\n"
     ]
    },
    {
     "name": "stdout",
     "output_type": "stream",
     "text": [
      "141/141 [==============================] - 115s 819ms/step - loss: 1.8758 - accuracy: 0.3691 - val_loss: 1.7966 - val_accuracy: 0.3876\n",
      "Epoch 5/40\n",
      "141/141 [==============================] - ETA: 0s - loss: 1.7800 - accuracy: 0.3931"
     ]
    },
    {
     "name": "stderr",
     "output_type": "stream",
     "text": [
      "WARNING:absl:Function `_wrapped_model` contains input name(s) MobilenetV3large_input with unsupported characters which will be renamed to mobilenetv3large_input in the SavedModel.\n",
      "WARNING:absl:Found untraced functions such as _update_step_xla, _jit_compiled_convolution_op, _jit_compiled_convolution_op, _jit_compiled_convolution_op, _jit_compiled_convolution_op while saving (showing 5 of 65). These functions will not be directly callable after loading.\n"
     ]
    },
    {
     "name": "stdout",
     "output_type": "stream",
     "text": [
      "INFO:tensorflow:Assets written to: Notebook_Outputs\\Models\\2023_01_03-13_01_36-cats_classifier\\assets\n"
     ]
    },
    {
     "name": "stderr",
     "output_type": "stream",
     "text": [
      "INFO:tensorflow:Assets written to: Notebook_Outputs\\Models\\2023_01_03-13_01_36-cats_classifier\\assets\n"
     ]
    },
    {
     "name": "stdout",
     "output_type": "stream",
     "text": [
      "141/141 [==============================] - 118s 836ms/step - loss: 1.7800 - accuracy: 0.3931 - val_loss: 1.7140 - val_accuracy: 0.4160\n",
      "Epoch 6/40\n",
      "141/141 [==============================] - ETA: 0s - loss: 1.7251 - accuracy: 0.4073"
     ]
    },
    {
     "name": "stderr",
     "output_type": "stream",
     "text": [
      "WARNING:absl:Function `_wrapped_model` contains input name(s) MobilenetV3large_input with unsupported characters which will be renamed to mobilenetv3large_input in the SavedModel.\n",
      "WARNING:absl:Found untraced functions such as _update_step_xla, _jit_compiled_convolution_op, _jit_compiled_convolution_op, _jit_compiled_convolution_op, _jit_compiled_convolution_op while saving (showing 5 of 65). These functions will not be directly callable after loading.\n"
     ]
    },
    {
     "name": "stdout",
     "output_type": "stream",
     "text": [
      "INFO:tensorflow:Assets written to: Notebook_Outputs\\Models\\2023_01_03-13_01_36-cats_classifier\\assets\n"
     ]
    },
    {
     "name": "stderr",
     "output_type": "stream",
     "text": [
      "INFO:tensorflow:Assets written to: Notebook_Outputs\\Models\\2023_01_03-13_01_36-cats_classifier\\assets\n"
     ]
    },
    {
     "name": "stdout",
     "output_type": "stream",
     "text": [
      "141/141 [==============================] - 94s 671ms/step - loss: 1.7251 - accuracy: 0.4073 - val_loss: 1.6627 - val_accuracy: 0.4373\n",
      "Epoch 7/40\n",
      "141/141 [==============================] - ETA: 0s - loss: 1.6820 - accuracy: 0.4202"
     ]
    },
    {
     "name": "stderr",
     "output_type": "stream",
     "text": [
      "WARNING:absl:Function `_wrapped_model` contains input name(s) MobilenetV3large_input with unsupported characters which will be renamed to mobilenetv3large_input in the SavedModel.\n",
      "WARNING:absl:Found untraced functions such as _update_step_xla, _jit_compiled_convolution_op, _jit_compiled_convolution_op, _jit_compiled_convolution_op, _jit_compiled_convolution_op while saving (showing 5 of 65). These functions will not be directly callable after loading.\n"
     ]
    },
    {
     "name": "stdout",
     "output_type": "stream",
     "text": [
      "INFO:tensorflow:Assets written to: Notebook_Outputs\\Models\\2023_01_03-13_01_36-cats_classifier\\assets\n"
     ]
    },
    {
     "name": "stderr",
     "output_type": "stream",
     "text": [
      "INFO:tensorflow:Assets written to: Notebook_Outputs\\Models\\2023_01_03-13_01_36-cats_classifier\\assets\n"
     ]
    },
    {
     "name": "stdout",
     "output_type": "stream",
     "text": [
      "141/141 [==============================] - 95s 672ms/step - loss: 1.6820 - accuracy: 0.4202 - val_loss: 1.6216 - val_accuracy: 0.4560\n",
      "Epoch 8/40\n",
      "141/141 [==============================] - 77s 545ms/step - loss: 1.6493 - accuracy: 0.4298 - val_loss: 1.5920 - val_accuracy: 0.4551\n",
      "Epoch 9/40\n",
      "141/141 [==============================] - ETA: 0s - loss: 1.6327 - accuracy: 0.4320"
     ]
    },
    {
     "name": "stderr",
     "output_type": "stream",
     "text": [
      "WARNING:absl:Function `_wrapped_model` contains input name(s) MobilenetV3large_input with unsupported characters which will be renamed to mobilenetv3large_input in the SavedModel.\n",
      "WARNING:absl:Found untraced functions such as _update_step_xla, _jit_compiled_convolution_op, _jit_compiled_convolution_op, _jit_compiled_convolution_op, _jit_compiled_convolution_op while saving (showing 5 of 65). These functions will not be directly callable after loading.\n"
     ]
    },
    {
     "name": "stdout",
     "output_type": "stream",
     "text": [
      "INFO:tensorflow:Assets written to: Notebook_Outputs\\Models\\2023_01_03-13_01_36-cats_classifier\\assets\n"
     ]
    },
    {
     "name": "stderr",
     "output_type": "stream",
     "text": [
      "INFO:tensorflow:Assets written to: Notebook_Outputs\\Models\\2023_01_03-13_01_36-cats_classifier\\assets\n"
     ]
    },
    {
     "name": "stdout",
     "output_type": "stream",
     "text": [
      "141/141 [==============================] - 101s 715ms/step - loss: 1.6327 - accuracy: 0.4320 - val_loss: 1.5705 - val_accuracy: 0.4649\n",
      "Epoch 10/40\n",
      "141/141 [==============================] - ETA: 0s - loss: 1.5990 - accuracy: 0.4544"
     ]
    },
    {
     "name": "stderr",
     "output_type": "stream",
     "text": [
      "WARNING:absl:Function `_wrapped_model` contains input name(s) MobilenetV3large_input with unsupported characters which will be renamed to mobilenetv3large_input in the SavedModel.\n",
      "WARNING:absl:Found untraced functions such as _update_step_xla, _jit_compiled_convolution_op, _jit_compiled_convolution_op, _jit_compiled_convolution_op, _jit_compiled_convolution_op while saving (showing 5 of 65). These functions will not be directly callable after loading.\n"
     ]
    },
    {
     "name": "stdout",
     "output_type": "stream",
     "text": [
      "INFO:tensorflow:Assets written to: Notebook_Outputs\\Models\\2023_01_03-13_01_36-cats_classifier\\assets\n"
     ]
    },
    {
     "name": "stderr",
     "output_type": "stream",
     "text": [
      "INFO:tensorflow:Assets written to: Notebook_Outputs\\Models\\2023_01_03-13_01_36-cats_classifier\\assets\n"
     ]
    },
    {
     "name": "stdout",
     "output_type": "stream",
     "text": [
      "141/141 [==============================] - 102s 727ms/step - loss: 1.5990 - accuracy: 0.4544 - val_loss: 1.5485 - val_accuracy: 0.4693\n",
      "Epoch 11/40\n",
      "141/141 [==============================] - ETA: 0s - loss: 1.5905 - accuracy: 0.4500"
     ]
    },
    {
     "name": "stderr",
     "output_type": "stream",
     "text": [
      "WARNING:absl:Function `_wrapped_model` contains input name(s) MobilenetV3large_input with unsupported characters which will be renamed to mobilenetv3large_input in the SavedModel.\n",
      "WARNING:absl:Found untraced functions such as _update_step_xla, _jit_compiled_convolution_op, _jit_compiled_convolution_op, _jit_compiled_convolution_op, _jit_compiled_convolution_op while saving (showing 5 of 65). These functions will not be directly callable after loading.\n"
     ]
    },
    {
     "name": "stdout",
     "output_type": "stream",
     "text": [
      "INFO:tensorflow:Assets written to: Notebook_Outputs\\Models\\2023_01_03-13_01_36-cats_classifier\\assets\n"
     ]
    },
    {
     "name": "stderr",
     "output_type": "stream",
     "text": [
      "INFO:tensorflow:Assets written to: Notebook_Outputs\\Models\\2023_01_03-13_01_36-cats_classifier\\assets\n"
     ]
    },
    {
     "name": "stdout",
     "output_type": "stream",
     "text": [
      "141/141 [==============================] - 97s 690ms/step - loss: 1.5905 - accuracy: 0.4500 - val_loss: 1.5279 - val_accuracy: 0.4764\n",
      "Epoch 12/40\n",
      "141/141 [==============================] - ETA: 0s - loss: 1.5748 - accuracy: 0.4560"
     ]
    },
    {
     "name": "stderr",
     "output_type": "stream",
     "text": [
      "WARNING:absl:Function `_wrapped_model` contains input name(s) MobilenetV3large_input with unsupported characters which will be renamed to mobilenetv3large_input in the SavedModel.\n",
      "WARNING:absl:Found untraced functions such as _update_step_xla, _jit_compiled_convolution_op, _jit_compiled_convolution_op, _jit_compiled_convolution_op, _jit_compiled_convolution_op while saving (showing 5 of 65). These functions will not be directly callable after loading.\n"
     ]
    },
    {
     "name": "stdout",
     "output_type": "stream",
     "text": [
      "INFO:tensorflow:Assets written to: Notebook_Outputs\\Models\\2023_01_03-13_01_36-cats_classifier\\assets\n"
     ]
    },
    {
     "name": "stderr",
     "output_type": "stream",
     "text": [
      "INFO:tensorflow:Assets written to: Notebook_Outputs\\Models\\2023_01_03-13_01_36-cats_classifier\\assets\n"
     ]
    },
    {
     "name": "stdout",
     "output_type": "stream",
     "text": [
      "141/141 [==============================] - 104s 743ms/step - loss: 1.5748 - accuracy: 0.4560 - val_loss: 1.5115 - val_accuracy: 0.4916\n",
      "Epoch 13/40\n",
      "141/141 [==============================] - ETA: 0s - loss: 1.5684 - accuracy: 0.4578"
     ]
    },
    {
     "name": "stderr",
     "output_type": "stream",
     "text": [
      "WARNING:absl:Function `_wrapped_model` contains input name(s) MobilenetV3large_input with unsupported characters which will be renamed to mobilenetv3large_input in the SavedModel.\n",
      "WARNING:absl:Found untraced functions such as _update_step_xla, _jit_compiled_convolution_op, _jit_compiled_convolution_op, _jit_compiled_convolution_op, _jit_compiled_convolution_op while saving (showing 5 of 65). These functions will not be directly callable after loading.\n"
     ]
    },
    {
     "name": "stdout",
     "output_type": "stream",
     "text": [
      "INFO:tensorflow:Assets written to: Notebook_Outputs\\Models\\2023_01_03-13_01_36-cats_classifier\\assets\n"
     ]
    },
    {
     "name": "stderr",
     "output_type": "stream",
     "text": [
      "INFO:tensorflow:Assets written to: Notebook_Outputs\\Models\\2023_01_03-13_01_36-cats_classifier\\assets\n"
     ]
    },
    {
     "name": "stdout",
     "output_type": "stream",
     "text": [
      "141/141 [==============================] - 106s 751ms/step - loss: 1.5684 - accuracy: 0.4578 - val_loss: 1.4936 - val_accuracy: 0.4987\n",
      "Epoch 14/40\n",
      "141/141 [==============================] - 90s 636ms/step - loss: 1.5454 - accuracy: 0.4582 - val_loss: 1.4823 - val_accuracy: 0.4951\n",
      "Epoch 15/40\n",
      "141/141 [==============================] - ETA: 0s - loss: 1.5282 - accuracy: 0.4624"
     ]
    },
    {
     "name": "stderr",
     "output_type": "stream",
     "text": [
      "WARNING:absl:Function `_wrapped_model` contains input name(s) MobilenetV3large_input with unsupported characters which will be renamed to mobilenetv3large_input in the SavedModel.\n",
      "WARNING:absl:Found untraced functions such as _update_step_xla, _jit_compiled_convolution_op, _jit_compiled_convolution_op, _jit_compiled_convolution_op, _jit_compiled_convolution_op while saving (showing 5 of 65). These functions will not be directly callable after loading.\n"
     ]
    },
    {
     "name": "stdout",
     "output_type": "stream",
     "text": [
      "INFO:tensorflow:Assets written to: Notebook_Outputs\\Models\\2023_01_03-13_01_36-cats_classifier\\assets\n"
     ]
    },
    {
     "name": "stderr",
     "output_type": "stream",
     "text": [
      "INFO:tensorflow:Assets written to: Notebook_Outputs\\Models\\2023_01_03-13_01_36-cats_classifier\\assets\n"
     ]
    },
    {
     "name": "stdout",
     "output_type": "stream",
     "text": [
      "141/141 [==============================] - 106s 756ms/step - loss: 1.5282 - accuracy: 0.4624 - val_loss: 1.4612 - val_accuracy: 0.5120\n",
      "Epoch 16/40\n",
      "141/141 [==============================] - 90s 636ms/step - loss: 1.5063 - accuracy: 0.4722 - val_loss: 1.4549 - val_accuracy: 0.5040\n",
      "Epoch 17/40\n",
      "141/141 [==============================] - 91s 645ms/step - loss: 1.5001 - accuracy: 0.4820 - val_loss: 1.4371 - val_accuracy: 0.5111\n",
      "Epoch 18/40\n",
      "141/141 [==============================] - 91s 648ms/step - loss: 1.4821 - accuracy: 0.4924 - val_loss: 1.4243 - val_accuracy: 0.5111\n",
      "Epoch 19/40\n",
      "141/141 [==============================] - ETA: 0s - loss: 1.4641 - accuracy: 0.4858"
     ]
    },
    {
     "name": "stderr",
     "output_type": "stream",
     "text": [
      "WARNING:absl:Function `_wrapped_model` contains input name(s) MobilenetV3large_input with unsupported characters which will be renamed to mobilenetv3large_input in the SavedModel.\n",
      "WARNING:absl:Found untraced functions such as _update_step_xla, _jit_compiled_convolution_op, _jit_compiled_convolution_op, _jit_compiled_convolution_op, _jit_compiled_convolution_op while saving (showing 5 of 65). These functions will not be directly callable after loading.\n"
     ]
    },
    {
     "name": "stdout",
     "output_type": "stream",
     "text": [
      "INFO:tensorflow:Assets written to: Notebook_Outputs\\Models\\2023_01_03-13_01_36-cats_classifier\\assets\n"
     ]
    },
    {
     "name": "stderr",
     "output_type": "stream",
     "text": [
      "INFO:tensorflow:Assets written to: Notebook_Outputs\\Models\\2023_01_03-13_01_36-cats_classifier\\assets\n"
     ]
    },
    {
     "name": "stdout",
     "output_type": "stream",
     "text": [
      "141/141 [==============================] - 108s 771ms/step - loss: 1.4641 - accuracy: 0.4858 - val_loss: 1.4071 - val_accuracy: 0.5280\n",
      "Epoch 20/40\n",
      "141/141 [==============================] - 86s 613ms/step - loss: 1.4571 - accuracy: 0.4964 - val_loss: 1.3995 - val_accuracy: 0.5191\n",
      "Epoch 21/40\n",
      "141/141 [==============================] - ETA: 0s - loss: 1.4483 - accuracy: 0.5033"
     ]
    },
    {
     "name": "stderr",
     "output_type": "stream",
     "text": [
      "WARNING:absl:Function `_wrapped_model` contains input name(s) MobilenetV3large_input with unsupported characters which will be renamed to mobilenetv3large_input in the SavedModel.\n",
      "WARNING:absl:Found untraced functions such as _update_step_xla, _jit_compiled_convolution_op, _jit_compiled_convolution_op, _jit_compiled_convolution_op, _jit_compiled_convolution_op while saving (showing 5 of 65). These functions will not be directly callable after loading.\n"
     ]
    },
    {
     "name": "stdout",
     "output_type": "stream",
     "text": [
      "INFO:tensorflow:Assets written to: Notebook_Outputs\\Models\\2023_01_03-13_01_36-cats_classifier\\assets\n"
     ]
    },
    {
     "name": "stderr",
     "output_type": "stream",
     "text": [
      "INFO:tensorflow:Assets written to: Notebook_Outputs\\Models\\2023_01_03-13_01_36-cats_classifier\\assets\n"
     ]
    },
    {
     "name": "stdout",
     "output_type": "stream",
     "text": [
      "141/141 [==============================] - 107s 761ms/step - loss: 1.4483 - accuracy: 0.5033 - val_loss: 1.3873 - val_accuracy: 0.5316\n",
      "Epoch 22/40\n",
      "141/141 [==============================] - 89s 631ms/step - loss: 1.4347 - accuracy: 0.4973 - val_loss: 1.3782 - val_accuracy: 0.5262\n",
      "Epoch 23/40\n",
      "141/141 [==============================] - 90s 640ms/step - loss: 1.4219 - accuracy: 0.4996 - val_loss: 1.3666 - val_accuracy: 0.5307\n",
      "Epoch 24/40\n",
      "141/141 [==============================] - 87s 620ms/step - loss: 1.4051 - accuracy: 0.5140 - val_loss: 1.3602 - val_accuracy: 0.5316\n",
      "Epoch 25/40\n",
      "141/141 [==============================] - 93s 661ms/step - loss: 1.3913 - accuracy: 0.5198 - val_loss: 1.3500 - val_accuracy: 0.5262\n",
      "Epoch 26/40\n",
      "141/141 [==============================] - 84s 597ms/step - loss: 1.3852 - accuracy: 0.5229 - val_loss: 1.3403 - val_accuracy: 0.5316\n",
      "Epoch 27/40\n",
      "141/141 [==============================] - ETA: 0s - loss: 1.3703 - accuracy: 0.5276"
     ]
    },
    {
     "name": "stderr",
     "output_type": "stream",
     "text": [
      "WARNING:absl:Function `_wrapped_model` contains input name(s) MobilenetV3large_input with unsupported characters which will be renamed to mobilenetv3large_input in the SavedModel.\n",
      "WARNING:absl:Found untraced functions such as _update_step_xla, _jit_compiled_convolution_op, _jit_compiled_convolution_op, _jit_compiled_convolution_op, _jit_compiled_convolution_op while saving (showing 5 of 65). These functions will not be directly callable after loading.\n"
     ]
    },
    {
     "name": "stdout",
     "output_type": "stream",
     "text": [
      "INFO:tensorflow:Assets written to: Notebook_Outputs\\Models\\2023_01_03-13_01_36-cats_classifier\\assets\n"
     ]
    },
    {
     "name": "stderr",
     "output_type": "stream",
     "text": [
      "INFO:tensorflow:Assets written to: Notebook_Outputs\\Models\\2023_01_03-13_01_36-cats_classifier\\assets\n"
     ]
    },
    {
     "name": "stdout",
     "output_type": "stream",
     "text": [
      "141/141 [==============================] - 105s 750ms/step - loss: 1.3703 - accuracy: 0.5276 - val_loss: 1.3373 - val_accuracy: 0.5396\n",
      "Epoch 28/40\n",
      "141/141 [==============================] - ETA: 0s - loss: 1.3777 - accuracy: 0.5251"
     ]
    },
    {
     "name": "stderr",
     "output_type": "stream",
     "text": [
      "WARNING:absl:Function `_wrapped_model` contains input name(s) MobilenetV3large_input with unsupported characters which will be renamed to mobilenetv3large_input in the SavedModel.\n",
      "WARNING:absl:Found untraced functions such as _update_step_xla, _jit_compiled_convolution_op, _jit_compiled_convolution_op, _jit_compiled_convolution_op, _jit_compiled_convolution_op while saving (showing 5 of 65). These functions will not be directly callable after loading.\n"
     ]
    },
    {
     "name": "stdout",
     "output_type": "stream",
     "text": [
      "INFO:tensorflow:Assets written to: Notebook_Outputs\\Models\\2023_01_03-13_01_36-cats_classifier\\assets\n"
     ]
    },
    {
     "name": "stderr",
     "output_type": "stream",
     "text": [
      "INFO:tensorflow:Assets written to: Notebook_Outputs\\Models\\2023_01_03-13_01_36-cats_classifier\\assets\n"
     ]
    },
    {
     "name": "stdout",
     "output_type": "stream",
     "text": [
      "141/141 [==============================] - 105s 746ms/step - loss: 1.3777 - accuracy: 0.5251 - val_loss: 1.3263 - val_accuracy: 0.5440\n",
      "Epoch 29/40\n",
      "141/141 [==============================] - 86s 610ms/step - loss: 1.3499 - accuracy: 0.5302 - val_loss: 1.3194 - val_accuracy: 0.5404\n",
      "Epoch 30/40\n",
      "141/141 [==============================] - ETA: 0s - loss: 1.3479 - accuracy: 0.5369"
     ]
    },
    {
     "name": "stderr",
     "output_type": "stream",
     "text": [
      "WARNING:absl:Function `_wrapped_model` contains input name(s) MobilenetV3large_input with unsupported characters which will be renamed to mobilenetv3large_input in the SavedModel.\n",
      "WARNING:absl:Found untraced functions such as _update_step_xla, _jit_compiled_convolution_op, _jit_compiled_convolution_op, _jit_compiled_convolution_op, _jit_compiled_convolution_op while saving (showing 5 of 65). These functions will not be directly callable after loading.\n"
     ]
    },
    {
     "name": "stdout",
     "output_type": "stream",
     "text": [
      "INFO:tensorflow:Assets written to: Notebook_Outputs\\Models\\2023_01_03-13_01_36-cats_classifier\\assets\n"
     ]
    },
    {
     "name": "stderr",
     "output_type": "stream",
     "text": [
      "INFO:tensorflow:Assets written to: Notebook_Outputs\\Models\\2023_01_03-13_01_36-cats_classifier\\assets\n"
     ]
    },
    {
     "name": "stdout",
     "output_type": "stream",
     "text": [
      "141/141 [==============================] - 106s 750ms/step - loss: 1.3479 - accuracy: 0.5369 - val_loss: 1.3111 - val_accuracy: 0.5449\n",
      "Epoch 31/40\n",
      "141/141 [==============================] - ETA: 0s - loss: 1.3383 - accuracy: 0.5282"
     ]
    },
    {
     "name": "stderr",
     "output_type": "stream",
     "text": [
      "WARNING:absl:Function `_wrapped_model` contains input name(s) MobilenetV3large_input with unsupported characters which will be renamed to mobilenetv3large_input in the SavedModel.\n",
      "WARNING:absl:Found untraced functions such as _update_step_xla, _jit_compiled_convolution_op, _jit_compiled_convolution_op, _jit_compiled_convolution_op, _jit_compiled_convolution_op while saving (showing 5 of 65). These functions will not be directly callable after loading.\n"
     ]
    },
    {
     "name": "stdout",
     "output_type": "stream",
     "text": [
      "INFO:tensorflow:Assets written to: Notebook_Outputs\\Models\\2023_01_03-13_01_36-cats_classifier\\assets\n"
     ]
    },
    {
     "name": "stderr",
     "output_type": "stream",
     "text": [
      "INFO:tensorflow:Assets written to: Notebook_Outputs\\Models\\2023_01_03-13_01_36-cats_classifier\\assets\n"
     ]
    },
    {
     "name": "stdout",
     "output_type": "stream",
     "text": [
      "141/141 [==============================] - 106s 755ms/step - loss: 1.3383 - accuracy: 0.5282 - val_loss: 1.3019 - val_accuracy: 0.5467\n",
      "Epoch 32/40\n",
      "141/141 [==============================] - 88s 625ms/step - loss: 1.3223 - accuracy: 0.5409 - val_loss: 1.2932 - val_accuracy: 0.5422\n",
      "Epoch 33/40\n",
      "141/141 [==============================] - 85s 600ms/step - loss: 1.3164 - accuracy: 0.5507 - val_loss: 1.2907 - val_accuracy: 0.5431\n",
      "Epoch 34/40\n",
      "141/141 [==============================] - 86s 611ms/step - loss: 1.3054 - accuracy: 0.5489 - val_loss: 1.2900 - val_accuracy: 0.5458\n",
      "Epoch 35/40\n",
      "141/141 [==============================] - ETA: 0s - loss: 1.3004 - accuracy: 0.5509"
     ]
    },
    {
     "name": "stderr",
     "output_type": "stream",
     "text": [
      "WARNING:absl:Function `_wrapped_model` contains input name(s) MobilenetV3large_input with unsupported characters which will be renamed to mobilenetv3large_input in the SavedModel.\n",
      "WARNING:absl:Found untraced functions such as _update_step_xla, _jit_compiled_convolution_op, _jit_compiled_convolution_op, _jit_compiled_convolution_op, _jit_compiled_convolution_op while saving (showing 5 of 65). These functions will not be directly callable after loading.\n"
     ]
    },
    {
     "name": "stdout",
     "output_type": "stream",
     "text": [
      "INFO:tensorflow:Assets written to: Notebook_Outputs\\Models\\2023_01_03-13_01_36-cats_classifier\\assets\n"
     ]
    },
    {
     "name": "stderr",
     "output_type": "stream",
     "text": [
      "INFO:tensorflow:Assets written to: Notebook_Outputs\\Models\\2023_01_03-13_01_36-cats_classifier\\assets\n"
     ]
    },
    {
     "name": "stdout",
     "output_type": "stream",
     "text": [
      "141/141 [==============================] - 106s 753ms/step - loss: 1.3004 - accuracy: 0.5509 - val_loss: 1.2763 - val_accuracy: 0.5644\n",
      "Epoch 36/40\n",
      "141/141 [==============================] - 88s 624ms/step - loss: 1.3092 - accuracy: 0.5533 - val_loss: 1.2690 - val_accuracy: 0.5636\n",
      "Epoch 37/40\n",
      "141/141 [==============================] - 89s 634ms/step - loss: 1.2909 - accuracy: 0.5553 - val_loss: 1.2633 - val_accuracy: 0.5573\n",
      "Epoch 38/40\n",
      "141/141 [==============================] - 92s 654ms/step - loss: 1.2777 - accuracy: 0.5558 - val_loss: 1.2573 - val_accuracy: 0.5582\n",
      "Epoch 39/40\n",
      "141/141 [==============================] - 93s 657ms/step - loss: 1.2799 - accuracy: 0.5576 - val_loss: 1.2483 - val_accuracy: 0.5644\n",
      "Epoch 40/40\n",
      "141/141 [==============================] - ETA: 0s - loss: 1.2706 - accuracy: 0.5562"
     ]
    },
    {
     "name": "stderr",
     "output_type": "stream",
     "text": [
      "WARNING:absl:Function `_wrapped_model` contains input name(s) MobilenetV3large_input with unsupported characters which will be renamed to mobilenetv3large_input in the SavedModel.\n",
      "WARNING:absl:Found untraced functions such as _update_step_xla, _jit_compiled_convolution_op, _jit_compiled_convolution_op, _jit_compiled_convolution_op, _jit_compiled_convolution_op while saving (showing 5 of 65). These functions will not be directly callable after loading.\n"
     ]
    },
    {
     "name": "stdout",
     "output_type": "stream",
     "text": [
      "INFO:tensorflow:Assets written to: Notebook_Outputs\\Models\\2023_01_03-13_01_36-cats_classifier\\assets\n"
     ]
    },
    {
     "name": "stderr",
     "output_type": "stream",
     "text": [
      "INFO:tensorflow:Assets written to: Notebook_Outputs\\Models\\2023_01_03-13_01_36-cats_classifier\\assets\n"
     ]
    },
    {
     "name": "stdout",
     "output_type": "stream",
     "text": [
      "\b\b\b\b\b\b\b\b\b\b\b\b\b\b\b\b\b\b\b\b\b\b\b\b\b\b\b\b\b\b\b\b\b\b\b\b\b\b\b\b\b\b\b\b\b\b\b\b\b\b\b\b\b\b\b\b\b\b\b\b\b\b\b\b\b\b\b\b\b\b\b\b\b\b\b\b\b\b\b\b\b\b\b\b\r\n",
      "141/141 [==============================] - 112s 798ms/step - loss: 1.2706 - accuracy: 0.5562 - val_loss: 1.2393 - val_accuracy: 0.5689\n"
     ]
    }
   ],
   "source": [
    "# EPOCHS\n",
    "initial_epochs = 40\n",
    "\n",
    "# Create callback\n",
    "checkpoint = create_model_checkpoint(\"Notebook_Outputs\", \"cats_classifier\")\n",
    "early_stopping = tf.keras.callbacks.EarlyStopping(monitor=\"val_accuracy\",\n",
    "                                                  patience=10)\n",
    "\n",
    "# Model Training\n",
    "model_history = model.fit(train_ds,\n",
    "                    epochs=initial_epochs,\n",
    "                    validation_data=val_ds,\n",
    "                    validation_freq=1,\n",
    "                    callbacks=[early_stopping, checkpoint]\n",
    "                )"
   ]
  },
  {
   "cell_type": "markdown",
   "id": "97b22840",
   "metadata": {},
   "source": [
    " # Model Learning Curves (Accuracy/Loss)"
   ]
  },
  {
   "cell_type": "code",
   "execution_count": 85,
   "id": "37f801ad",
   "metadata": {},
   "outputs": [
    {
     "data": {
      "image/png": "[encoded data removed]",
      "text/plain": [
       "<Figure size 800x800 with 2 Axes>"
      ]
     },
     "metadata": {},
     "output_type": "display_data"
    }
   ],
   "source": [
    "def plot_learning_curves(model_history):\n",
    "    # retrieve learning metrics history \n",
    "    acc = model_history.history['accuracy']\n",
    "    val_acc = model_history.history['val_accuracy']\n",
    "    loss = model_history.history['loss']\n",
    "    val_loss =model_history.history['val_loss']\n",
    "\n",
    "    # Plot\n",
    "    fig = plt.figure(figsize=(8,8))\n",
    "    ax_acc = plt.subplot(2, 1, 1)\n",
    "    plt.plot(acc, label='Training Accuracy')\n",
    "    plt.plot(val_acc, label='Validation Accuracy')\n",
    "    plt.legend(loc='lower right')\n",
    "    plt.ylabel(\"Accuracy\")\n",
    "    plt.ylim([0.1, 1])\n",
    "    plt.title(\"Training and Validation Accuracy\",)\n",
    "    \n",
    "    ax_loss = plt.subplot(2, 1, 2)\n",
    "    plt.plot(loss, label='Training Loss')\n",
    "    plt.plot(val_loss, label='Validation Loss')\n",
    "    plt.legend(loc='upper right')\n",
    "    plt.ylabel('Cross Entropy Loss')\n",
    "    plt.ylim([0.1,1])\n",
    "    plt.title('Training and Validation Loss')\n",
    "    plt.xlabel('Epoch')\n",
    "    plt.show()\n",
    "\n",
    "plot_learning_curves(model_history)"
   ]
  },
  {
   "cell_type": "markdown",
   "id": "42eb262e",
   "metadata": {},
   "source": [
    "# Fine Tuning"
   ]
  },
  {
   "cell_type": "code",
   "execution_count": 60,
   "id": "c95a20eb",
   "metadata": {},
   "outputs": [],
   "source": [
    "base_model.trainable = True"
   ]
  },
  {
   "cell_type": "code",
   "execution_count": 61,
   "id": "e6b5b471",
   "metadata": {},
   "outputs": [
    {
     "name": "stdout",
     "output_type": "stream",
     "text": [
      "Number of layers in the base model:  273\n"
     ]
    }
   ],
   "source": [
    "# Let's take a look to see how many layers are in the base model\n",
    "print(\"Number of layers in the base model: \", len(base_model.layers))\n",
    "\n",
    "# Fine-tune from this layer onwards\n",
    "fine_tune_at = 100\n",
    "\n",
    "# Freeze all the layers before the `fine_tune_at` layer\n",
    "for layer in base_model.layers[:fine_tune_at]:\n",
    "  layer.trainable = False"
   ]
  },
  {
   "cell_type": "code",
   "execution_count": 62,
   "id": "bce09018",
   "metadata": {},
   "outputs": [],
   "source": [
    "model.compile(\n",
    "      loss=tf.keras.losses.CategoricalCrossentropy(),\n",
    "      optimizer = tf.keras.optimizers.RMSprop(learning_rate=base_learning_rate/10),\n",
    "      metrics =[\"accuracy\"]\n",
    ")"
   ]
  },
  {
   "cell_type": "code",
   "execution_count": 63,
   "id": "e86fe54e",
   "metadata": {},
   "outputs": [
    {
     "name": "stdout",
     "output_type": "stream",
     "text": [
      "Model: \"sequential_1\"\n",
      "_________________________________________________________________\n",
      " Layer (type)                Output Shape              Param #   \n",
      "=================================================================\n",
      " MobilenetV3large (Functiona  (None, 1000)             5507432   \n",
      " l)                                                              \n",
      "                                                                 \n",
      " dense_3 (Dense)             (None, 512)               512512    \n",
      "                                                                 \n",
      " dropout_5 (Dropout)         (None, 512)               0         \n",
      "                                                                 \n",
      " dense_4 (Dense)             (None, 256)               131328    \n",
      "                                                                 \n",
      " dropout_6 (Dropout)         (None, 256)               0         \n",
      "                                                                 \n",
      " dense_5 (Dense)             (None, 15)                3855      \n",
      "                                                                 \n",
      "=================================================================\n",
      "Total params: 6,155,127\n",
      "Trainable params: 6,021,127\n",
      "Non-trainable params: 134,000\n",
      "_________________________________________________________________\n"
     ]
    }
   ],
   "source": [
    "model.summary()"
   ]
  },
  {
   "cell_type": "code",
   "execution_count": 66,
   "id": "b6990e03",
   "metadata": {},
   "outputs": [
    {
     "name": "stdout",
     "output_type": "stream",
     "text": [
      "Epoch 40/60\n",
      "141/141 [==============================] - 166s 1s/step - loss: 1.2813 - accuracy: 0.5647 - val_loss: 1.4622 - val_accuracy: 0.5093\n",
      "Epoch 41/60\n",
      "141/141 [==============================] - ETA: 0s - loss: 1.0998 - accuracy: 0.6289"
     ]
    },
    {
     "name": "stderr",
     "output_type": "stream",
     "text": [
      "WARNING:absl:Function `_wrapped_model` contains input name(s) MobilenetV3large_input with unsupported characters which will be renamed to mobilenetv3large_input in the SavedModel.\n",
      "WARNING:absl:Found untraced functions such as _update_step_xla, _jit_compiled_convolution_op, _jit_compiled_convolution_op, _jit_compiled_convolution_op, _jit_compiled_convolution_op while saving (showing 5 of 65). These functions will not be directly callable after loading.\n"
     ]
    },
    {
     "name": "stdout",
     "output_type": "stream",
     "text": [
      "INFO:tensorflow:Assets written to: Notebook_Outputs\\Models\\2023_01_03-13_01_36-cats_classifier\\assets\n"
     ]
    },
    {
     "name": "stderr",
     "output_type": "stream",
     "text": [
      "INFO:tensorflow:Assets written to: Notebook_Outputs\\Models\\2023_01_03-13_01_36-cats_classifier\\assets\n"
     ]
    },
    {
     "name": "stdout",
     "output_type": "stream",
     "text": [
      "141/141 [==============================] - 189s 1s/step - loss: 1.0998 - accuracy: 0.6289 - val_loss: 1.2320 - val_accuracy: 0.5867\n",
      "Epoch 42/60\n",
      "141/141 [==============================] - ETA: 0s - loss: 0.9797 - accuracy: 0.6707"
     ]
    },
    {
     "name": "stderr",
     "output_type": "stream",
     "text": [
      "WARNING:absl:Function `_wrapped_model` contains input name(s) MobilenetV3large_input with unsupported characters which will be renamed to mobilenetv3large_input in the SavedModel.\n",
      "WARNING:absl:Found untraced functions such as _update_step_xla, _jit_compiled_convolution_op, _jit_compiled_convolution_op, _jit_compiled_convolution_op, _jit_compiled_convolution_op while saving (showing 5 of 65). These functions will not be directly callable after loading.\n"
     ]
    },
    {
     "name": "stdout",
     "output_type": "stream",
     "text": [
      "INFO:tensorflow:Assets written to: Notebook_Outputs\\Models\\2023_01_03-13_01_36-cats_classifier\\assets\n"
     ]
    },
    {
     "name": "stderr",
     "output_type": "stream",
     "text": [
      "INFO:tensorflow:Assets written to: Notebook_Outputs\\Models\\2023_01_03-13_01_36-cats_classifier\\assets\n"
     ]
    },
    {
     "name": "stdout",
     "output_type": "stream",
     "text": [
      "141/141 [==============================] - 205s 1s/step - loss: 0.9797 - accuracy: 0.6707 - val_loss: 1.0545 - val_accuracy: 0.6436\n",
      "Epoch 43/60\n",
      "141/141 [==============================] - ETA: 0s - loss: 0.9011 - accuracy: 0.6909"
     ]
    },
    {
     "name": "stderr",
     "output_type": "stream",
     "text": [
      "WARNING:absl:Function `_wrapped_model` contains input name(s) MobilenetV3large_input with unsupported characters which will be renamed to mobilenetv3large_input in the SavedModel.\n",
      "WARNING:absl:Found untraced functions such as _update_step_xla, _jit_compiled_convolution_op, _jit_compiled_convolution_op, _jit_compiled_convolution_op, _jit_compiled_convolution_op while saving (showing 5 of 65). These functions will not be directly callable after loading.\n"
     ]
    },
    {
     "name": "stdout",
     "output_type": "stream",
     "text": [
      "INFO:tensorflow:Assets written to: Notebook_Outputs\\Models\\2023_01_03-13_01_36-cats_classifier\\assets\n"
     ]
    },
    {
     "name": "stderr",
     "output_type": "stream",
     "text": [
      "INFO:tensorflow:Assets written to: Notebook_Outputs\\Models\\2023_01_03-13_01_36-cats_classifier\\assets\n"
     ]
    },
    {
     "name": "stdout",
     "output_type": "stream",
     "text": [
      "141/141 [==============================] - 207s 1s/step - loss: 0.9011 - accuracy: 0.6909 - val_loss: 0.9627 - val_accuracy: 0.6756\n",
      "Epoch 44/60\n",
      "141/141 [==============================] - ETA: 0s - loss: 0.8204 - accuracy: 0.7191"
     ]
    },
    {
     "name": "stderr",
     "output_type": "stream",
     "text": [
      "WARNING:absl:Function `_wrapped_model` contains input name(s) MobilenetV3large_input with unsupported characters which will be renamed to mobilenetv3large_input in the SavedModel.\n",
      "WARNING:absl:Found untraced functions such as _update_step_xla, _jit_compiled_convolution_op, _jit_compiled_convolution_op, _jit_compiled_convolution_op, _jit_compiled_convolution_op while saving (showing 5 of 65). These functions will not be directly callable after loading.\n"
     ]
    },
    {
     "name": "stdout",
     "output_type": "stream",
     "text": [
      "INFO:tensorflow:Assets written to: Notebook_Outputs\\Models\\2023_01_03-13_01_36-cats_classifier\\assets\n"
     ]
    },
    {
     "name": "stderr",
     "output_type": "stream",
     "text": [
      "INFO:tensorflow:Assets written to: Notebook_Outputs\\Models\\2023_01_03-13_01_36-cats_classifier\\assets\n"
     ]
    },
    {
     "name": "stdout",
     "output_type": "stream",
     "text": [
      "141/141 [==============================] - 208s 1s/step - loss: 0.8204 - accuracy: 0.7191 - val_loss: 0.8959 - val_accuracy: 0.7004\n",
      "Epoch 45/60\n",
      "141/141 [==============================] - ETA: 0s - loss: 0.7718 - accuracy: 0.7400"
     ]
    },
    {
     "name": "stderr",
     "output_type": "stream",
     "text": [
      "WARNING:absl:Function `_wrapped_model` contains input name(s) MobilenetV3large_input with unsupported characters which will be renamed to mobilenetv3large_input in the SavedModel.\n",
      "WARNING:absl:Found untraced functions such as _update_step_xla, _jit_compiled_convolution_op, _jit_compiled_convolution_op, _jit_compiled_convolution_op, _jit_compiled_convolution_op while saving (showing 5 of 65). These functions will not be directly callable after loading.\n"
     ]
    },
    {
     "name": "stdout",
     "output_type": "stream",
     "text": [
      "INFO:tensorflow:Assets written to: Notebook_Outputs\\Models\\2023_01_03-13_01_36-cats_classifier\\assets\n"
     ]
    },
    {
     "name": "stderr",
     "output_type": "stream",
     "text": [
      "INFO:tensorflow:Assets written to: Notebook_Outputs\\Models\\2023_01_03-13_01_36-cats_classifier\\assets\n"
     ]
    },
    {
     "name": "stdout",
     "output_type": "stream",
     "text": [
      "141/141 [==============================] - 218s 2s/step - loss: 0.7718 - accuracy: 0.7400 - val_loss: 0.8566 - val_accuracy: 0.7049\n",
      "Epoch 46/60\n",
      "141/141 [==============================] - ETA: 0s - loss: 0.7123 - accuracy: 0.7596"
     ]
    },
    {
     "name": "stderr",
     "output_type": "stream",
     "text": [
      "WARNING:absl:Function `_wrapped_model` contains input name(s) MobilenetV3large_input with unsupported characters which will be renamed to mobilenetv3large_input in the SavedModel.\n",
      "WARNING:absl:Found untraced functions such as _update_step_xla, _jit_compiled_convolution_op, _jit_compiled_convolution_op, _jit_compiled_convolution_op, _jit_compiled_convolution_op while saving (showing 5 of 65). These functions will not be directly callable after loading.\n"
     ]
    },
    {
     "name": "stdout",
     "output_type": "stream",
     "text": [
      "INFO:tensorflow:Assets written to: Notebook_Outputs\\Models\\2023_01_03-13_01_36-cats_classifier\\assets\n"
     ]
    },
    {
     "name": "stderr",
     "output_type": "stream",
     "text": [
      "INFO:tensorflow:Assets written to: Notebook_Outputs\\Models\\2023_01_03-13_01_36-cats_classifier\\assets\n"
     ]
    },
    {
     "name": "stdout",
     "output_type": "stream",
     "text": [
      "141/141 [==============================] - 221s 2s/step - loss: 0.7123 - accuracy: 0.7596 - val_loss: 0.8260 - val_accuracy: 0.7200\n",
      "Epoch 47/60\n",
      "141/141 [==============================] - 204s 1s/step - loss: 0.6716 - accuracy: 0.7767 - val_loss: 0.7942 - val_accuracy: 0.7147\n",
      "Epoch 48/60\n",
      "141/141 [==============================] - ETA: 0s - loss: 0.6262 - accuracy: 0.7909"
     ]
    },
    {
     "name": "stderr",
     "output_type": "stream",
     "text": [
      "WARNING:absl:Function `_wrapped_model` contains input name(s) MobilenetV3large_input with unsupported characters which will be renamed to mobilenetv3large_input in the SavedModel.\n",
      "WARNING:absl:Found untraced functions such as _update_step_xla, _jit_compiled_convolution_op, _jit_compiled_convolution_op, _jit_compiled_convolution_op, _jit_compiled_convolution_op while saving (showing 5 of 65). These functions will not be directly callable after loading.\n"
     ]
    },
    {
     "name": "stdout",
     "output_type": "stream",
     "text": [
      "INFO:tensorflow:Assets written to: Notebook_Outputs\\Models\\2023_01_03-13_01_36-cats_classifier\\assets\n"
     ]
    },
    {
     "name": "stderr",
     "output_type": "stream",
     "text": [
      "INFO:tensorflow:Assets written to: Notebook_Outputs\\Models\\2023_01_03-13_01_36-cats_classifier\\assets\n"
     ]
    },
    {
     "name": "stdout",
     "output_type": "stream",
     "text": [
      "141/141 [==============================] - 223s 2s/step - loss: 0.6262 - accuracy: 0.7909 - val_loss: 0.7822 - val_accuracy: 0.7218\n",
      "Epoch 49/60\n",
      "141/141 [==============================] - ETA: 0s - loss: 0.5881 - accuracy: 0.8129"
     ]
    },
    {
     "name": "stderr",
     "output_type": "stream",
     "text": [
      "WARNING:absl:Function `_wrapped_model` contains input name(s) MobilenetV3large_input with unsupported characters which will be renamed to mobilenetv3large_input in the SavedModel.\n",
      "WARNING:absl:Found untraced functions such as _update_step_xla, _jit_compiled_convolution_op, _jit_compiled_convolution_op, _jit_compiled_convolution_op, _jit_compiled_convolution_op while saving (showing 5 of 65). These functions will not be directly callable after loading.\n"
     ]
    },
    {
     "name": "stdout",
     "output_type": "stream",
     "text": [
      "INFO:tensorflow:Assets written to: Notebook_Outputs\\Models\\2023_01_03-13_01_36-cats_classifier\\assets\n"
     ]
    },
    {
     "name": "stderr",
     "output_type": "stream",
     "text": [
      "INFO:tensorflow:Assets written to: Notebook_Outputs\\Models\\2023_01_03-13_01_36-cats_classifier\\assets\n"
     ]
    },
    {
     "name": "stdout",
     "output_type": "stream",
     "text": [
      "141/141 [==============================] - 227s 2s/step - loss: 0.5881 - accuracy: 0.8129 - val_loss: 0.7689 - val_accuracy: 0.7307\n",
      "Epoch 50/60\n",
      "141/141 [==============================] - ETA: 0s - loss: 0.5459 - accuracy: 0.8256"
     ]
    },
    {
     "name": "stderr",
     "output_type": "stream",
     "text": [
      "WARNING:absl:Function `_wrapped_model` contains input name(s) MobilenetV3large_input with unsupported characters which will be renamed to mobilenetv3large_input in the SavedModel.\n",
      "WARNING:absl:Found untraced functions such as _update_step_xla, _jit_compiled_convolution_op, _jit_compiled_convolution_op, _jit_compiled_convolution_op, _jit_compiled_convolution_op while saving (showing 5 of 65). These functions will not be directly callable after loading.\n"
     ]
    },
    {
     "name": "stdout",
     "output_type": "stream",
     "text": [
      "INFO:tensorflow:Assets written to: Notebook_Outputs\\Models\\2023_01_03-13_01_36-cats_classifier\\assets\n"
     ]
    },
    {
     "name": "stderr",
     "output_type": "stream",
     "text": [
      "INFO:tensorflow:Assets written to: Notebook_Outputs\\Models\\2023_01_03-13_01_36-cats_classifier\\assets\n"
     ]
    },
    {
     "name": "stdout",
     "output_type": "stream",
     "text": [
      "141/141 [==============================] - 217s 2s/step - loss: 0.5459 - accuracy: 0.8256 - val_loss: 0.7588 - val_accuracy: 0.7422\n",
      "Epoch 51/60\n",
      "141/141 [==============================] - 180s 1s/step - loss: 0.5068 - accuracy: 0.8396 - val_loss: 0.7569 - val_accuracy: 0.7404\n",
      "Epoch 52/60\n",
      "141/141 [==============================] - ETA: 0s - loss: 0.4839 - accuracy: 0.8533"
     ]
    },
    {
     "name": "stderr",
     "output_type": "stream",
     "text": [
      "WARNING:absl:Function `_wrapped_model` contains input name(s) MobilenetV3large_input with unsupported characters which will be renamed to mobilenetv3large_input in the SavedModel.\n",
      "WARNING:absl:Found untraced functions such as _update_step_xla, _jit_compiled_convolution_op, _jit_compiled_convolution_op, _jit_compiled_convolution_op, _jit_compiled_convolution_op while saving (showing 5 of 65). These functions will not be directly callable after loading.\n"
     ]
    },
    {
     "name": "stdout",
     "output_type": "stream",
     "text": [
      "INFO:tensorflow:Assets written to: Notebook_Outputs\\Models\\2023_01_03-13_01_36-cats_classifier\\assets\n"
     ]
    },
    {
     "name": "stderr",
     "output_type": "stream",
     "text": [
      "INFO:tensorflow:Assets written to: Notebook_Outputs\\Models\\2023_01_03-13_01_36-cats_classifier\\assets\n"
     ]
    },
    {
     "name": "stdout",
     "output_type": "stream",
     "text": [
      "141/141 [==============================] - 199s 1s/step - loss: 0.4839 - accuracy: 0.8533 - val_loss: 0.7513 - val_accuracy: 0.7484\n",
      "Epoch 53/60\n",
      "141/141 [==============================] - ETA: 0s - loss: 0.4503 - accuracy: 0.8624"
     ]
    },
    {
     "name": "stderr",
     "output_type": "stream",
     "text": [
      "WARNING:absl:Function `_wrapped_model` contains input name(s) MobilenetV3large_input with unsupported characters which will be renamed to mobilenetv3large_input in the SavedModel.\n",
      "WARNING:absl:Found untraced functions such as _update_step_xla, _jit_compiled_convolution_op, _jit_compiled_convolution_op, _jit_compiled_convolution_op, _jit_compiled_convolution_op while saving (showing 5 of 65). These functions will not be directly callable after loading.\n"
     ]
    },
    {
     "name": "stdout",
     "output_type": "stream",
     "text": [
      "INFO:tensorflow:Assets written to: Notebook_Outputs\\Models\\2023_01_03-13_01_36-cats_classifier\\assets\n"
     ]
    },
    {
     "name": "stderr",
     "output_type": "stream",
     "text": [
      "INFO:tensorflow:Assets written to: Notebook_Outputs\\Models\\2023_01_03-13_01_36-cats_classifier\\assets\n"
     ]
    },
    {
     "name": "stdout",
     "output_type": "stream",
     "text": [
      "141/141 [==============================] - 202s 1s/step - loss: 0.4503 - accuracy: 0.8624 - val_loss: 0.7462 - val_accuracy: 0.7538\n",
      "Epoch 54/60\n",
      "141/141 [==============================] - 183s 1s/step - loss: 0.4186 - accuracy: 0.8709 - val_loss: 0.7404 - val_accuracy: 0.7538\n",
      "Epoch 55/60\n",
      "141/141 [==============================] - 184s 1s/step - loss: 0.3910 - accuracy: 0.8758 - val_loss: 0.7384 - val_accuracy: 0.7511\n",
      "Epoch 56/60\n",
      "141/141 [==============================] - 200s 1s/step - loss: 0.3708 - accuracy: 0.8878 - val_loss: 0.7324 - val_accuracy: 0.7529\n",
      "Epoch 57/60\n",
      "141/141 [==============================] - 212s 2s/step - loss: 0.3449 - accuracy: 0.8989 - val_loss: 0.7362 - val_accuracy: 0.7538\n",
      "Epoch 58/60\n",
      "141/141 [==============================] - ETA: 0s - loss: 0.3294 - accuracy: 0.8971"
     ]
    },
    {
     "name": "stderr",
     "output_type": "stream",
     "text": [
      "WARNING:absl:Function `_wrapped_model` contains input name(s) MobilenetV3large_input with unsupported characters which will be renamed to mobilenetv3large_input in the SavedModel.\n",
      "WARNING:absl:Found untraced functions such as _update_step_xla, _jit_compiled_convolution_op, _jit_compiled_convolution_op, _jit_compiled_convolution_op, _jit_compiled_convolution_op while saving (showing 5 of 65). These functions will not be directly callable after loading.\n"
     ]
    },
    {
     "name": "stdout",
     "output_type": "stream",
     "text": [
      "INFO:tensorflow:Assets written to: Notebook_Outputs\\Models\\2023_01_03-13_01_36-cats_classifier\\assets\n"
     ]
    },
    {
     "name": "stderr",
     "output_type": "stream",
     "text": [
      "INFO:tensorflow:Assets written to: Notebook_Outputs\\Models\\2023_01_03-13_01_36-cats_classifier\\assets\n"
     ]
    },
    {
     "name": "stdout",
     "output_type": "stream",
     "text": [
      "141/141 [==============================] - 235s 2s/step - loss: 0.3294 - accuracy: 0.8971 - val_loss: 0.7351 - val_accuracy: 0.7556\n",
      "Epoch 59/60\n",
      "141/141 [==============================] - ETA: 0s - loss: 0.3036 - accuracy: 0.9120"
     ]
    },
    {
     "name": "stderr",
     "output_type": "stream",
     "text": [
      "WARNING:absl:Function `_wrapped_model` contains input name(s) MobilenetV3large_input with unsupported characters which will be renamed to mobilenetv3large_input in the SavedModel.\n",
      "WARNING:absl:Found untraced functions such as _update_step_xla, _jit_compiled_convolution_op, _jit_compiled_convolution_op, _jit_compiled_convolution_op, _jit_compiled_convolution_op while saving (showing 5 of 65). These functions will not be directly callable after loading.\n"
     ]
    },
    {
     "name": "stdout",
     "output_type": "stream",
     "text": [
      "INFO:tensorflow:Assets written to: Notebook_Outputs\\Models\\2023_01_03-13_01_36-cats_classifier\\assets\n"
     ]
    },
    {
     "name": "stderr",
     "output_type": "stream",
     "text": [
      "INFO:tensorflow:Assets written to: Notebook_Outputs\\Models\\2023_01_03-13_01_36-cats_classifier\\assets\n"
     ]
    },
    {
     "name": "stdout",
     "output_type": "stream",
     "text": [
      "141/141 [==============================] - 228s 2s/step - loss: 0.3036 - accuracy: 0.9120 - val_loss: 0.7333 - val_accuracy: 0.7582\n",
      "Epoch 60/60\n",
      "141/141 [==============================] - ETA: 0s - loss: 0.2868 - accuracy: 0.9140"
     ]
    },
    {
     "name": "stderr",
     "output_type": "stream",
     "text": [
      "WARNING:absl:Function `_wrapped_model` contains input name(s) MobilenetV3large_input with unsupported characters which will be renamed to mobilenetv3large_input in the SavedModel.\n",
      "WARNING:absl:Found untraced functions such as _update_step_xla, _jit_compiled_convolution_op, _jit_compiled_convolution_op, _jit_compiled_convolution_op, _jit_compiled_convolution_op while saving (showing 5 of 65). These functions will not be directly callable after loading.\n"
     ]
    },
    {
     "name": "stdout",
     "output_type": "stream",
     "text": [
      "INFO:tensorflow:Assets written to: Notebook_Outputs\\Models\\2023_01_03-13_01_36-cats_classifier\\assets\n"
     ]
    },
    {
     "name": "stderr",
     "output_type": "stream",
     "text": [
      "INFO:tensorflow:Assets written to: Notebook_Outputs\\Models\\2023_01_03-13_01_36-cats_classifier\\assets\n"
     ]
    },
    {
     "name": "stdout",
     "output_type": "stream",
     "text": [
      "\b\b\b\b\b\b\b\b\b\b\b\b\b\b\b\b\b\b\b\b\b\b\b\b\b\b\b\b\b\b\b\b\b\b\b\b\b\b\b\b\b\b\b\b\b\b\b\b\b\b\b\b\b\b\b\b\b\b\b\b\b\b\b\b\b\b\b\b\b\b\b\b\b\b\b\b\b\b\b\b\b\b\b\b\r\n",
      "141/141 [==============================] - 231s 2s/step - loss: 0.2868 - accuracy: 0.9140 - val_loss: 0.7484 - val_accuracy: 0.7618\n"
     ]
    }
   ],
   "source": [
    "fine_tune_epochs = 20\n",
    "total_epochs =  initial_epochs + fine_tune_epochs\n",
    "\n",
    "history_fine = model.fit(train_ds,\n",
    "                         epochs=total_epochs,\n",
    "                         initial_epoch=model_history.epoch[-1],\n",
    "                         validation_data=val_ds,\n",
    "                         callbacks=[early_stopping, checkpoint])"
   ]
  },
  {
   "cell_type": "code",
   "execution_count": 67,
   "id": "be602cb0",
   "metadata": {},
   "outputs": [
    {
     "data": {
      "image/png": "[encoded data removed]",
      "text/plain": [
       "<Figure size 800x800 with 2 Axes>"
      ]
     },
     "metadata": {},
     "output_type": "display_data"
    }
   ],
   "source": [
    "plot_learning_curves(history_fine)"
   ]
  },
  {
   "cell_type": "code",
   "execution_count": 70,
   "id": "d0b84683",
   "metadata": {},
   "outputs": [],
   "source": [
    "model.save('Cats_Breeds1.h5')"
   ]
  },
  {
   "cell_type": "code",
   "execution_count": 68,
   "id": "805019c7",
   "metadata": {},
   "outputs": [],
   "source": [
    "label_maps = {}\n",
    "label_maps_rev = {}\n",
    "for i, v in enumerate(class_names):\n",
    "    label_maps.update({v: i})\n",
    "    label_maps_rev.update({i : v})"
   ]
  },
  {
   "cell_type": "code",
   "execution_count": 69,
   "id": "28f50265",
   "metadata": {},
   "outputs": [],
   "source": [
    "from tensorflow.keras.preprocessing import image\n",
    "from tensorflow.keras.preprocessing.image import img_to_array\n",
    "def download_and_predict(filename):\n",
    "    \n",
    "    \"\"\"test_image_array = img_to_array(test_image)\n",
    "    new_image = tf.expand_dims(test_image_array,0)\n",
    "    predicted_batch = model.predict(new_image)\n",
    "    \"\"\"\n",
    "    # download and save\n",
    "    img = image.load_img(filename, target_size=(224, 224))\n",
    "    # show image\n",
    "    plt.figure(figsize=(4, 4))\n",
    "    plt.imshow(img)\n",
    "    plt.axis('off')\n",
    "    # predict\n",
    "    #img = preprocess_input(img)\n",
    "    probs = model.predict(np.expand_dims(img, axis=0))\n",
    "    for idx in probs.argsort()[0][::-1][:5]:\n",
    "        print(\"{:.2f}%\".format(probs[0][idx]*100), \"\\t\", label_maps_rev[idx].split(\"-\")[-1])"
   ]
  },
  {
   "cell_type": "code",
   "execution_count": 82,
   "id": "aaf6e211",
   "metadata": {},
   "outputs": [
    {
     "name": "stdout",
     "output_type": "stream",
     "text": [
      "1/1 [==============================] - 0s 67ms/step\n",
      "36.97% \t American Shorthair\n",
      "29.02% \t Bengal\n",
      "16.92% \t American Bobtail\n",
      "9.82% \t Egyptian Mau\n",
      "4.31% \t Abyssinian\n"
     ]
    },
    {
     "data": {
      "image/png": "[encoded data removed]",
      "text/plain": [
       "<Figure size 400x400 with 1 Axes>"
      ]
     },
     "metadata": {},
     "output_type": "display_data"
    }
   ],
   "source": [
    "download_and_predict(\"cat7.jpeg\")"
   ]
  },
  {
   "cell_type": "code",
   "execution_count": null,
   "id": "3cd5e123",
   "metadata": {},
   "outputs": [],
   "source": []
  }
 ],
 "metadata": {
  "kernelspec": {
   "display_name": "Python 3",
   "language": "python",
   "name": "python3"
  },
  "language_info": {
   "codemirror_mode": {
    "name": "ipython",
    "version": 3
   },
   "file_extension": ".py",
   "mimetype": "text/x-python",
   "name": "python",
   "nbconvert_exporter": "python",
   "pygments_lexer": "ipython3",
   "version": "3.10.3 (tags/v3.10.3:a342a49, Mar 16 2022, 13:07:40) [MSC v.1929 64 bit (AMD64)]"
  },
  "vscode": {
   "interpreter": {
    "hash": "df95319d8ce4e1d89f5365ae10992bc1f65da593082b1d264e8f529830ec2f02"
   }
  }
 },
 "nbformat": 4,
 "nbformat_minor": 5
}
